{
 "cells": [
  {
   "cell_type": "markdown",
   "metadata": {},
   "source": [
    "# Importing Library"
   ]
  },
  {
   "cell_type": "code",
   "execution_count": null,
   "metadata": {
    "executionInfo": {
     "elapsed": 17319,
     "status": "ok",
     "timestamp": 1680188243704,
     "user": {
      "displayName": "Jaejun Shim",
      "userId": "09455022591387484755"
     },
     "user_tz": -480
    },
    "id": "vdUTWQPYdJP2",
    "outputId": "1d144387-aed2-4084-e47d-3a77b58efea4",
    "trusted": true
   },
   "outputs": [],
   "source": [
    "## Import Libraries\n",
    "#! pip install optuna\n",
    "! pip install attention\n",
    "\n",
    "import numpy as np\n",
    "import pandas as pd\n",
    "import seaborn as sns\n",
    "import matplotlib.pyplot as plt\n",
    "import string\n",
    "\n",
    "from sklearn.model_selection import train_test_split\n",
    "\n",
    "from keras.preprocessing.text import Tokenizer\n",
    "from keras.utils import pad_sequences\n",
    "\n",
    "import logging\n",
    "import sys\n",
    "\n",
    "from keras.layers import Dense, Input, LSTM, Embedding, Dropout, Activation\n",
    "from keras.layers import Bidirectional, GlobalMaxPool1D\n",
    "from attention import Attention\n",
    "from keras.models import Model\n",
    "from keras import initializers, regularizers, constraints, optimizers, layers\n",
    "import optuna\n",
    "from sklearn.model_selection import StratifiedKFold\n",
    "\n",
    "from optuna.pruners import SuccessiveHalvingPruner\n",
    "from optuna.samplers import TPESampler\n",
    "\n",
    "from sklearn.metrics import f1_score,classification_report,confusion_matrix\n",
    "\n",
    "import warnings\n",
    "warnings.filterwarnings('ignore')\n",
    "\n",
    "random = 14"
   ]
  },
  {
   "cell_type": "markdown",
   "metadata": {},
   "source": [
    "# Import and Preprocess Datasets\n",
    "\n",
    "1. Read `train.csv` and `test.csv` and combine them into one dataset `D`.\n",
    "2. Force the target value into a binary value.\n",
    "3. Perform Exploratory Data Analysis.\n",
    "4. Perform text preprocessing: Lower Casing, Counting number of words etc.\n",
    "5. Tokenizing and Padding Text Data."
   ]
  },
  {
   "cell_type": "code",
   "execution_count": 4,
   "metadata": {
    "execution": {
     "iopub.execute_input": "2023-04-06T03:46:02.506802Z",
     "iopub.status.busy": "2023-04-06T03:46:02.505899Z",
     "iopub.status.idle": "2023-04-06T03:46:02.514731Z",
     "shell.execute_reply": "2023-04-06T03:46:02.513535Z",
     "shell.execute_reply.started": "2023-04-06T03:46:02.506763Z"
    },
    "executionInfo": {
     "elapsed": 3,
     "status": "ok",
     "timestamp": 1680188245032,
     "user": {
      "displayName": "Jaejun Shim",
      "userId": "09455022591387484755"
     },
     "user_tz": -480
    },
    "id": "_A3Dm2IufL4G"
   },
   "outputs": [],
   "source": [
    "## Dataset Paths\n",
    "path = '../data/'\n",
    "train_path = f'{path}train.csv'\n",
    "test_path = f'{path}test.csv'\n",
    "test_labels_path = f'{path}test_labels.csv'"
   ]
  },
  {
   "cell_type": "code",
   "execution_count": null,
   "metadata": {
    "executionInfo": {
     "elapsed": 4357,
     "status": "ok",
     "timestamp": 1680188249386,
     "user": {
      "displayName": "Jaejun Shim",
      "userId": "09455022591387484755"
     },
     "user_tz": -480
    },
    "id": "YV_7UhD3fV0H",
    "outputId": "04e60acf-d321-4e04-9e82-24a7d4f8bfd4",
    "trusted": true
   },
   "outputs": [],
   "source": [
    "## Reading Datasets\n",
    "train = pd.read_csv(train_path)\n",
    "test = pd.read_csv(test_path)\n",
    "test_labels = pd.read_csv(test_labels_path)[['toxic', 'severe_toxic', 'obscene', 'threat', 'insult', 'identity_hate']]\n",
    "test = pd.concat([test, test_labels],axis=1)\n",
    "test = test.loc[test['toxic'] != -1] # Data having toxic of value -1 means they are not labelled. Therefore, removed.\n",
    "\n",
    "D = pd.concat([train, test], axis=0)"
   ]
  },
  {
   "cell_type": "markdown",
   "metadata": {
    "id": "6qGFV8CgfcbS"
   },
   "source": [
    "## Exploratory Data Analysis"
   ]
  },
  {
   "cell_type": "markdown",
   "metadata": {},
   "source": [
    "### Checking for Data Shape and Nulls Values"
   ]
  },
  {
   "cell_type": "code",
   "execution_count": 4,
   "metadata": {
    "execution": {
     "iopub.execute_input": "2023-04-04T14:15:32.395570Z",
     "iopub.status.busy": "2023-04-04T14:15:32.395176Z",
     "iopub.status.idle": "2023-04-04T14:15:32.473593Z",
     "shell.execute_reply": "2023-04-04T14:15:32.472089Z",
     "shell.execute_reply.started": "2023-04-04T14:15:32.395530Z"
    },
    "executionInfo": {
     "elapsed": 1350,
     "status": "ok",
     "timestamp": 1680163406674,
     "user": {
      "displayName": "Jaejun Shim",
      "userId": "09455022591387484755"
     },
     "user_tz": -480
    },
    "id": "dDd076yNfb2j",
    "outputId": "75cfbaad-bbb0-4977-a471-ba867b7334dc"
   },
   "outputs": [
    {
     "name": "stdout",
     "output_type": "stream",
     "text": [
      "Number of Null Data: 0\n",
      "Number of Variables: \n",
      "8\n",
      "\n",
      "Number of Data Points: \n",
      "223549\n"
     ]
    },
    {
     "data": {
      "text/html": [
       "<div>\n",
       "<style scoped>\n",
       "    .dataframe tbody tr th:only-of-type {\n",
       "        vertical-align: middle;\n",
       "    }\n",
       "\n",
       "    .dataframe tbody tr th {\n",
       "        vertical-align: top;\n",
       "    }\n",
       "\n",
       "    .dataframe thead th {\n",
       "        text-align: right;\n",
       "    }\n",
       "</style>\n",
       "<table border=\"1\" class=\"dataframe\">\n",
       "  <thead>\n",
       "    <tr style=\"text-align: right;\">\n",
       "      <th></th>\n",
       "      <th>id</th>\n",
       "      <th>comment_text</th>\n",
       "      <th>toxic</th>\n",
       "      <th>severe_toxic</th>\n",
       "      <th>obscene</th>\n",
       "      <th>threat</th>\n",
       "      <th>insult</th>\n",
       "      <th>identity_hate</th>\n",
       "    </tr>\n",
       "  </thead>\n",
       "  <tbody>\n",
       "    <tr>\n",
       "      <th>0</th>\n",
       "      <td>0000997932d777bf</td>\n",
       "      <td>Explanation\\nWhy the edits made under my usern...</td>\n",
       "      <td>0</td>\n",
       "      <td>0</td>\n",
       "      <td>0</td>\n",
       "      <td>0</td>\n",
       "      <td>0</td>\n",
       "      <td>0</td>\n",
       "    </tr>\n",
       "    <tr>\n",
       "      <th>1</th>\n",
       "      <td>000103f0d9cfb60f</td>\n",
       "      <td>D'aww! He matches this background colour I'm s...</td>\n",
       "      <td>0</td>\n",
       "      <td>0</td>\n",
       "      <td>0</td>\n",
       "      <td>0</td>\n",
       "      <td>0</td>\n",
       "      <td>0</td>\n",
       "    </tr>\n",
       "    <tr>\n",
       "      <th>2</th>\n",
       "      <td>000113f07ec002fd</td>\n",
       "      <td>Hey man, I'm really not trying to edit war. It...</td>\n",
       "      <td>0</td>\n",
       "      <td>0</td>\n",
       "      <td>0</td>\n",
       "      <td>0</td>\n",
       "      <td>0</td>\n",
       "      <td>0</td>\n",
       "    </tr>\n",
       "    <tr>\n",
       "      <th>3</th>\n",
       "      <td>0001b41b1c6bb37e</td>\n",
       "      <td>\"\\nMore\\nI can't make any real suggestions on ...</td>\n",
       "      <td>0</td>\n",
       "      <td>0</td>\n",
       "      <td>0</td>\n",
       "      <td>0</td>\n",
       "      <td>0</td>\n",
       "      <td>0</td>\n",
       "    </tr>\n",
       "    <tr>\n",
       "      <th>4</th>\n",
       "      <td>0001d958c54c6e35</td>\n",
       "      <td>You, sir, are my hero. Any chance you remember...</td>\n",
       "      <td>0</td>\n",
       "      <td>0</td>\n",
       "      <td>0</td>\n",
       "      <td>0</td>\n",
       "      <td>0</td>\n",
       "      <td>0</td>\n",
       "    </tr>\n",
       "  </tbody>\n",
       "</table>\n",
       "</div>"
      ],
      "text/plain": [
       "                 id                                       comment_text  toxic  \\\n",
       "0  0000997932d777bf  Explanation\\nWhy the edits made under my usern...      0   \n",
       "1  000103f0d9cfb60f  D'aww! He matches this background colour I'm s...      0   \n",
       "2  000113f07ec002fd  Hey man, I'm really not trying to edit war. It...      0   \n",
       "3  0001b41b1c6bb37e  \"\\nMore\\nI can't make any real suggestions on ...      0   \n",
       "4  0001d958c54c6e35  You, sir, are my hero. Any chance you remember...      0   \n",
       "\n",
       "   severe_toxic  obscene  threat  insult  identity_hate  \n",
       "0             0        0       0       0              0  \n",
       "1             0        0       0       0              0  \n",
       "2             0        0       0       0              0  \n",
       "3             0        0       0       0              0  \n",
       "4             0        0       0       0              0  "
      ]
     },
     "execution_count": 4,
     "metadata": {},
     "output_type": "execute_result"
    }
   ],
   "source": [
    "## Checking Null Entries\n",
    "print(\"Number of Null Data: \" + str(D.isnull().sum().sum()))\n",
    "\n",
    "## Checking Dimensions\n",
    "print(\"Number of Variables: \")\n",
    "print(D.shape[1])\n",
    "print(\"\\nNumber of Data Points: \")\n",
    "print(D.shape[0])\n",
    "\n",
    "## Structure of the Dataset\n",
    "D.head()"
   ]
  },
  {
   "cell_type": "markdown",
   "metadata": {},
   "source": [
    "## Forcing Target Values to Binary Values"
   ]
  },
  {
   "cell_type": "code",
   "execution_count": 47,
   "metadata": {
    "execution": {
     "iopub.execute_input": "2023-04-05T14:50:25.404774Z",
     "iopub.status.busy": "2023-04-05T14:50:25.404261Z",
     "iopub.status.idle": "2023-04-05T14:50:25.483414Z",
     "shell.execute_reply": "2023-04-05T14:50:25.481938Z",
     "shell.execute_reply.started": "2023-04-05T14:50:25.404689Z"
    },
    "executionInfo": {
     "elapsed": 1240,
     "status": "ok",
     "timestamp": 1680163441057,
     "user": {
      "displayName": "Jaejun Shim",
      "userId": "09455022591387484755"
     },
     "user_tz": -480
    },
    "id": "MMBS9NzdiwIW",
    "outputId": "13ed2413-8c17-4435-a24f-f1580d3f6ac6"
   },
   "outputs": [
    {
     "data": {
      "text/html": [
       "<div>\n",
       "<style scoped>\n",
       "    .dataframe tbody tr th:only-of-type {\n",
       "        vertical-align: middle;\n",
       "    }\n",
       "\n",
       "    .dataframe tbody tr th {\n",
       "        vertical-align: top;\n",
       "    }\n",
       "\n",
       "    .dataframe thead th {\n",
       "        text-align: right;\n",
       "    }\n",
       "</style>\n",
       "<table border=\"1\" class=\"dataframe\">\n",
       "  <thead>\n",
       "    <tr style=\"text-align: right;\">\n",
       "      <th></th>\n",
       "      <th>var_count</th>\n",
       "      <th>toxic</th>\n",
       "      <th>severe_toxic</th>\n",
       "      <th>obscene</th>\n",
       "      <th>threat</th>\n",
       "      <th>insult</th>\n",
       "      <th>identity_hate</th>\n",
       "    </tr>\n",
       "  </thead>\n",
       "  <tbody>\n",
       "    <tr>\n",
       "      <th>0</th>\n",
       "      <td>toxic</td>\n",
       "      <td>21384</td>\n",
       "      <td>1962</td>\n",
       "      <td>11552</td>\n",
       "      <td>654</td>\n",
       "      <td>10686</td>\n",
       "      <td>1995</td>\n",
       "    </tr>\n",
       "    <tr>\n",
       "      <th>1</th>\n",
       "      <td>severe_toxic</td>\n",
       "      <td>1962</td>\n",
       "      <td>1962</td>\n",
       "      <td>1880</td>\n",
       "      <td>158</td>\n",
       "      <td>1701</td>\n",
       "      <td>448</td>\n",
       "    </tr>\n",
       "    <tr>\n",
       "      <th>2</th>\n",
       "      <td>obscene</td>\n",
       "      <td>11552</td>\n",
       "      <td>1880</td>\n",
       "      <td>12140</td>\n",
       "      <td>439</td>\n",
       "      <td>8884</td>\n",
       "      <td>1570</td>\n",
       "    </tr>\n",
       "    <tr>\n",
       "      <th>3</th>\n",
       "      <td>threat</td>\n",
       "      <td>654</td>\n",
       "      <td>158</td>\n",
       "      <td>439</td>\n",
       "      <td>689</td>\n",
       "      <td>445</td>\n",
       "      <td>145</td>\n",
       "    </tr>\n",
       "    <tr>\n",
       "      <th>4</th>\n",
       "      <td>insult</td>\n",
       "      <td>10686</td>\n",
       "      <td>1701</td>\n",
       "      <td>8884</td>\n",
       "      <td>445</td>\n",
       "      <td>11304</td>\n",
       "      <td>1762</td>\n",
       "    </tr>\n",
       "    <tr>\n",
       "      <th>5</th>\n",
       "      <td>identity_hate</td>\n",
       "      <td>1995</td>\n",
       "      <td>448</td>\n",
       "      <td>1570</td>\n",
       "      <td>145</td>\n",
       "      <td>1762</td>\n",
       "      <td>2117</td>\n",
       "    </tr>\n",
       "  </tbody>\n",
       "</table>\n",
       "</div>"
      ],
      "text/plain": [
       "       var_count  toxic  severe_toxic  obscene  threat  insult  identity_hate\n",
       "0          toxic  21384          1962    11552     654   10686           1995\n",
       "1   severe_toxic   1962          1962     1880     158    1701            448\n",
       "2        obscene  11552          1880    12140     439    8884           1570\n",
       "3         threat    654           158      439     689     445            145\n",
       "4         insult  10686          1701     8884     445   11304           1762\n",
       "5  identity_hate   1995           448     1570     145    1762           2117"
      ]
     },
     "execution_count": 47,
     "metadata": {},
     "output_type": "execute_result"
    }
   ],
   "source": [
    "## Checks for Creating New Dependent Variable\n",
    "def analyze_var(df, col_list):\n",
    "    col_list_v = col_list[1:]\n",
    "    res = pd.DataFrame(col_list_v)\n",
    "    for dv in col_list_v:\n",
    "        count = []\n",
    "        D_dv = D.loc[D[dv]==1]\n",
    "        for dv2 in col_list_v:\n",
    "            D_dv_dv2 = D_dv.loc[D_dv[dv2]==1]\n",
    "            count.append(D_dv_dv2.shape[0])\n",
    "        res = pd.concat([res,pd.DataFrame(count)],axis=1)\n",
    "    res.columns = col_list\n",
    "    return res\n",
    "\n",
    "analyze_var(D, ['var_count','toxic', 'severe_toxic', 'obscene', 'threat', 'insult', 'identity_hate'])"
   ]
  },
  {
   "cell_type": "code",
   "execution_count": 6,
   "metadata": {
    "execution": {
     "iopub.execute_input": "2023-04-06T03:46:05.614474Z",
     "iopub.status.busy": "2023-04-06T03:46:05.614128Z",
     "iopub.status.idle": "2023-04-06T03:46:05.748874Z",
     "shell.execute_reply": "2023-04-06T03:46:05.747620Z",
     "shell.execute_reply.started": "2023-04-06T03:46:05.614437Z"
    },
    "executionInfo": {
     "elapsed": 11,
     "status": "ok",
     "timestamp": 1680188249387,
     "user": {
      "displayName": "Jaejun Shim",
      "userId": "09455022591387484755"
     },
     "user_tz": -480
    },
    "id": "qEEdvfy3i61e",
    "outputId": "b1335fa7-0e95-41a4-ba8e-0940b3812bbc"
   },
   "outputs": [
    {
     "data": {
      "text/html": [
       "<div>\n",
       "<style scoped>\n",
       "    .dataframe tbody tr th:only-of-type {\n",
       "        vertical-align: middle;\n",
       "    }\n",
       "\n",
       "    .dataframe tbody tr th {\n",
       "        vertical-align: top;\n",
       "    }\n",
       "\n",
       "    .dataframe thead th {\n",
       "        text-align: right;\n",
       "    }\n",
       "</style>\n",
       "<table border=\"1\" class=\"dataframe\">\n",
       "  <thead>\n",
       "    <tr style=\"text-align: right;\">\n",
       "      <th></th>\n",
       "      <th>id</th>\n",
       "      <th>comment_text</th>\n",
       "      <th>malignant</th>\n",
       "    </tr>\n",
       "  </thead>\n",
       "  <tbody>\n",
       "    <tr>\n",
       "      <th>0</th>\n",
       "      <td>0000997932d777bf</td>\n",
       "      <td>Explanation\\nWhy the edits made under my usern...</td>\n",
       "      <td>0</td>\n",
       "    </tr>\n",
       "    <tr>\n",
       "      <th>1</th>\n",
       "      <td>000103f0d9cfb60f</td>\n",
       "      <td>D'aww! He matches this background colour I'm s...</td>\n",
       "      <td>0</td>\n",
       "    </tr>\n",
       "    <tr>\n",
       "      <th>2</th>\n",
       "      <td>000113f07ec002fd</td>\n",
       "      <td>Hey man, I'm really not trying to edit war. It...</td>\n",
       "      <td>0</td>\n",
       "    </tr>\n",
       "    <tr>\n",
       "      <th>3</th>\n",
       "      <td>0001b41b1c6bb37e</td>\n",
       "      <td>\"\\nMore\\nI can't make any real suggestions on ...</td>\n",
       "      <td>0</td>\n",
       "    </tr>\n",
       "    <tr>\n",
       "      <th>4</th>\n",
       "      <td>0001d958c54c6e35</td>\n",
       "      <td>You, sir, are my hero. Any chance you remember...</td>\n",
       "      <td>0</td>\n",
       "    </tr>\n",
       "  </tbody>\n",
       "</table>\n",
       "</div>"
      ],
      "text/plain": [
       "                 id                                       comment_text  \\\n",
       "0  0000997932d777bf  Explanation\\nWhy the edits made under my usern...   \n",
       "1  000103f0d9cfb60f  D'aww! He matches this background colour I'm s...   \n",
       "2  000113f07ec002fd  Hey man, I'm really not trying to edit war. It...   \n",
       "3  0001b41b1c6bb37e  \"\\nMore\\nI can't make any real suggestions on ...   \n",
       "4  0001d958c54c6e35  You, sir, are my hero. Any chance you remember...   \n",
       "\n",
       "   malignant  \n",
       "0          0  \n",
       "1          0  \n",
       "2          0  \n",
       "3          0  \n",
       "4          0  "
      ]
     },
     "execution_count": 6,
     "metadata": {},
     "output_type": "execute_result"
    }
   ],
   "source": [
    "## Create New Dependent Variable - Malignant\n",
    "def force_one(x):\n",
    "    if x > 1:\n",
    "        return 1\n",
    "    else:\n",
    "        return x\n",
    "\n",
    "D['malignant'] = D['toxic'] + D['obscene'] + D['threat'] + D['insult'] + D['identity_hate']\n",
    "D['malignant'] = D['malignant'].apply(lambda x: force_one(x))\n",
    "D = D[['id','comment_text','malignant']]\n",
    "\n",
    "D.head()"
   ]
  },
  {
   "cell_type": "markdown",
   "metadata": {},
   "source": [
    "### Distribution of Target Variable\n",
    "\n",
    "Note: The dataset is greatly unbalanced."
   ]
  },
  {
   "cell_type": "code",
   "execution_count": 50,
   "metadata": {
    "execution": {
     "iopub.execute_input": "2023-04-05T14:51:48.396903Z",
     "iopub.status.busy": "2023-04-05T14:51:48.395952Z",
     "iopub.status.idle": "2023-04-05T14:51:48.688096Z",
     "shell.execute_reply": "2023-04-05T14:51:48.686810Z",
     "shell.execute_reply.started": "2023-04-05T14:51:48.396860Z"
    },
    "executionInfo": {
     "elapsed": 1048,
     "status": "ok",
     "timestamp": 1680163532433,
     "user": {
      "displayName": "Jaejun Shim",
      "userId": "09455022591387484755"
     },
     "user_tz": -480
    },
    "id": "3BenLBhWjHzP",
    "outputId": "3482a758-db61-4a5b-bd51-cdecea1d4ddf"
   },
   "outputs": [
    {
     "name": "stdout",
     "output_type": "stream",
     "text": [
      "Number of Non-Malignant Comments: 201081\n",
      "Number of Malignant Comments: 22468\n"
     ]
    },
    {
     "data": {
      "image/png": "[encoded data removed]",
      "text/plain": [
       "<Figure size 640x480 with 1 Axes>"
      ]
     },
     "metadata": {},
     "output_type": "display_data"
    }
   ],
   "source": [
    "## Distribution of Dependent Variable - Malignant\n",
    "sns.countplot(data = D, x= 'malignant')\n",
    "print(\"Number of Non-Malignant Comments: {0}\".format(sum(D['malignant'] == 0)))\n",
    "print(\"Number of Malignant Comments: {0}\".format(sum(D['malignant'] == 1)))"
   ]
  },
  {
   "cell_type": "markdown",
   "metadata": {
    "id": "WvOkqSb1jTH-"
   },
   "source": [
    "## Preprocessing and Feature Extraction"
   ]
  },
  {
   "cell_type": "markdown",
   "metadata": {
    "id": "TwSDIcerjYD5"
   },
   "source": [
    "Puncuations that are found to express emotions in chats are counted separately once again. Those punctuations are chosen from the sources below:\n",
    "\n",
    "1. \"The interactional principle in digital punctuation\": https://www.sciencedirect.com/science/article/pii/S2211695821000180\n",
    "2. \"Punctuation is the New Measure of Emotion\": https://ericadhawan.medium.com/punctuation-is-the-new-measure-of-emotion-329b684743f0"
   ]
  },
  {
   "cell_type": "code",
   "execution_count": 7,
   "metadata": {
    "execution": {
     "iopub.execute_input": "2023-04-06T03:46:05.751005Z",
     "iopub.status.busy": "2023-04-06T03:46:05.750597Z",
     "iopub.status.idle": "2023-04-06T03:46:28.029762Z",
     "shell.execute_reply": "2023-04-06T03:46:28.028686Z",
     "shell.execute_reply.started": "2023-04-06T03:46:05.750966Z"
    },
    "executionInfo": {
     "elapsed": 59873,
     "status": "ok",
     "timestamp": 1680188309251,
     "user": {
      "displayName": "Jaejun Shim",
      "userId": "09455022591387484755"
     },
     "user_tz": -480
    },
    "id": "YEZyEWg0jR1c"
   },
   "outputs": [],
   "source": [
    "## Text Feature Extraction - D\n",
    "\n",
    "#### Make Strings to Lower Case\n",
    "D['comment_text'] = D['comment_text'].str.lower()\n",
    "\n",
    "#### Keep Track of String's Original Length\n",
    "D['length'] = D['comment_text'].str.len()\n",
    "\n",
    "#### Replace Email Address with 'email'\n",
    "D['comment_text'] = D['comment_text'].str.replace(r'^.+@[^\\.].*\\.[a-z]{2,}$','email')\n",
    "\n",
    "#### Replace Website Address with 'website'\n",
    "D['comment_text'] = D['comment_text'].str.replace(r'^http[s]{0,1}\\://[a-zA-Z0-9\\-\\.]+\\.[a-zA-Z]{2,3}(/\\S*)?$','website')\n",
    "\n",
    "#### Replace Website Address with 'phonenumber'\n",
    "D['comment_text'] = D['comment_text'].str.replace(r'^\\(?[\\d]{3}\\)?[\\s-]?[\\d]{3}[\\s-]?[\\d]{4}$','phonenumber') # Note, might contain a random 10 digit number.\n",
    "\n",
    "#### Replace Numbers with 'numbrs'\n",
    "D['comment_text'] = D['comment_text'].str.replace(r'\\d+(\\.\\d+)?', 'numbr')\n",
    "\n",
    "#### Special Punctuations are Replaced Explicitly.\n",
    "D['comment_text'] = D['comment_text'].str.replace(r'!',' exclamationmark')\n",
    "D['comment_text'] = D['comment_text'].str.replace(r'\\?',' questionmark')\n",
    "D['comment_text'] = D['comment_text'].str.replace(r'\\.{1}',' periodmark')\n",
    "D['comment_text'] = D['comment_text'].str.replace(r'\\.{2,}',' ellipsismark')\n",
    "D['comment_text'] = D['comment_text'].str.replace(r'£|\\$', ' dollers')\n",
    "\n",
    "## Removing Leftover Punctuations\n",
    "def remove_punct(text):\n",
    "    p_free=\"\".join([i for i in text if i not in string.punctuation])\n",
    "    return p_free\n",
    "D['comment_text'] = D['comment_text'].apply(lambda x:remove_punct(x))"
   ]
  },
  {
   "cell_type": "code",
   "execution_count": 8,
   "metadata": {
    "execution": {
     "iopub.execute_input": "2023-04-06T03:46:28.032381Z",
     "iopub.status.busy": "2023-04-06T03:46:28.031950Z",
     "iopub.status.idle": "2023-04-06T03:46:49.736284Z",
     "shell.execute_reply": "2023-04-06T03:46:49.735133Z",
     "shell.execute_reply.started": "2023-04-06T03:46:28.032341Z"
    },
    "executionInfo": {
     "elapsed": 33114,
     "status": "ok",
     "timestamp": 1680188342362,
     "user": {
      "displayName": "Jaejun Shim",
      "userId": "09455022591387484755"
     },
     "user_tz": -480
    },
    "id": "OoLUAf6Xj9DT"
   },
   "outputs": [],
   "source": [
    "## Tokenizing Strings\n",
    "X = D['comment_text']\n",
    "y = D['malignant']\n",
    "X_train, X_test, y_train, y_test = train_test_split(X, y, test_size=0.3, random_state=random)\n",
    "\n",
    "train_text = X_train.fillna(\"_na_\").values\n",
    "test_text = X_test.fillna(\"_na_\").values\n",
    "\n",
    "max_features = 20000\n",
    "\n",
    "tokenizer = Tokenizer(num_words=max_features)\n",
    "tokenizer.fit_on_texts(list(train_text))\n",
    "tokenized_train = tokenizer.texts_to_sequences(train_text)\n",
    "tokenized_test = tokenizer.texts_to_sequences(test_text)"
   ]
  },
  {
   "cell_type": "code",
   "execution_count": 53,
   "metadata": {
    "execution": {
     "iopub.execute_input": "2023-04-05T14:58:16.804220Z",
     "iopub.status.busy": "2023-04-05T14:58:16.803742Z",
     "iopub.status.idle": "2023-04-05T14:58:16.811219Z",
     "shell.execute_reply": "2023-04-05T14:58:16.809987Z",
     "shell.execute_reply.started": "2023-04-05T14:58:16.804185Z"
    }
   },
   "outputs": [
    {
     "name": "stdout",
     "output_type": "stream",
     "text": [
      "Number of observations in X_train: 156484\n",
      "Number of observations in X_test: 67065\n"
     ]
    }
   ],
   "source": [
    "print(\"Number of observations in X_train: {}\".format(X_train.shape[0]))\n",
    "print(\"Number of observations in X_test: {}\".format(X_test.shape[0]))"
   ]
  },
  {
   "cell_type": "markdown",
   "metadata": {},
   "source": [
    "#### Brief Exploration to Tokenized Dataset"
   ]
  },
  {
   "cell_type": "code",
   "execution_count": 56,
   "metadata": {
    "execution": {
     "iopub.execute_input": "2023-04-05T15:00:43.674331Z",
     "iopub.status.busy": "2023-04-05T15:00:43.673019Z",
     "iopub.status.idle": "2023-04-05T15:00:44.716302Z",
     "shell.execute_reply": "2023-04-05T15:00:44.714863Z",
     "shell.execute_reply.started": "2023-04-05T15:00:43.674277Z"
    },
    "executionInfo": {
     "elapsed": 1872,
     "status": "ok",
     "timestamp": 1680166452554,
     "user": {
      "displayName": "Jaejun Shim",
      "userId": "09455022591387484755"
     },
     "user_tz": -480
    },
    "id": "-hWrynfQnwx9",
    "outputId": "b0d540e3-22f2-40e1-b66c-88b63050d11c"
   },
   "outputs": [
    {
     "data": {
      "image/png": "[encoded data removed]",
      "text/plain": [
       "<Figure size 640x480 with 1 Axes>"
      ]
     },
     "metadata": {},
     "output_type": "display_data"
    }
   ],
   "source": [
    "## Distribution of Number of Words.\n",
    "totalNumWords = [len(text) for text in tokenized_train]\n",
    "plt.hist(totalNumWords,bins = np.arange(0,410,10))\n",
    "plt.title('Histogram of Document Length')\n",
    "plt.ylabel('Document Frequency')\n",
    "plt.xlabel('Document Length')\n",
    "plt.show()"
   ]
  },
  {
   "cell_type": "code",
   "execution_count": 9,
   "metadata": {
    "execution": {
     "iopub.execute_input": "2023-04-06T03:46:49.738737Z",
     "iopub.status.busy": "2023-04-06T03:46:49.737705Z",
     "iopub.status.idle": "2023-04-06T03:46:50.853649Z",
     "shell.execute_reply": "2023-04-06T03:46:50.852517Z",
     "shell.execute_reply.started": "2023-04-06T03:46:49.738686Z"
    },
    "executionInfo": {
     "elapsed": 2208,
     "status": "ok",
     "timestamp": 1680188344562,
     "user": {
      "displayName": "Jaejun Shim",
      "userId": "09455022591387484755"
     },
     "user_tz": -480
    },
    "id": "ifZWXuwhn0w1"
   },
   "outputs": [],
   "source": [
    "## Pad the Tokenized List - Evening Length\n",
    "maxlen = 150\n",
    "X_train = pad_sequences(tokenized_train, maxlen=maxlen)\n",
    "X_test = pad_sequences(tokenized_test, maxlen=maxlen)"
   ]
  },
  {
   "cell_type": "markdown",
   "metadata": {},
   "source": [
    "## Building and Training Model - LSTM on Original/Unbalanced Dataset"
   ]
  },
  {
   "cell_type": "code",
   "execution_count": null,
   "metadata": {
    "execution": {
     "iopub.execute_input": "2023-04-03T10:31:47.726518Z",
     "iopub.status.busy": "2023-04-03T10:31:47.725636Z",
     "iopub.status.idle": "2023-04-03T10:31:47.752106Z",
     "shell.execute_reply": "2023-04-03T10:31:47.750710Z",
     "shell.execute_reply.started": "2023-04-03T10:31:47.726460Z"
    },
    "executionInfo": {
     "elapsed": 8,
     "status": "ok",
     "timestamp": 1680188344563,
     "user": {
      "displayName": "Jaejun Shim",
      "userId": "09455022591387484755"
     },
     "user_tz": -480
    },
    "id": "RiKa9Z7tn817"
   },
   "outputs": [],
   "source": [
    "def build_lstm(hp, maxlen, max_features, X, y):\n",
    "    inp = Input(shape=(maxlen, ))\n",
    "    x = Embedding(max_features, hp['embed_size'])(inp)\n",
    "    x = Bidirectional(LSTM(hp['op_lstm_size'], return_sequences=True, dropout=hp['dropout_lstm'], recurrent_dropout=0))(x)\n",
    "    if hp['attention'] == 1:\n",
    "        x = Attention(units=hp['attention_units'])(x)\n",
    "    else:\n",
    "        x = GlobalMaxPool1D()(x)\n",
    "    x = Dense(50, activation='relu')(x)\n",
    "    x = Dropout(hp['dropout'])(x)\n",
    "    x = Dense(1, activation=\"sigmoid\")(x)\n",
    "    model = Model(inputs=inp, outputs=x)\n",
    "    model.compile(loss='binary_crossentropy', \n",
    "                  optimizer=optimizers.Adam(), \n",
    "                  metrics=['accuracy'])\n",
    "    X_t, X_v, y_t, y_v = train_test_split(X, y, test_size=0.5, random_state=random)\n",
    "    model.fit(X_t, y_t, epochs=hp['epochs'], batch_size=hp['batch_size'])\n",
    "    y_pred = model.predict([X_v], batch_size=256, verbose=1)\n",
    "    y_pred = (y_pred > 0.5).astype(int)\n",
    "    score = f1_score(y_v, y_pred, average = 'macro')\n",
    "    return model, score#np.mean(scores)\n",
    "\n",
    "def build_lstm_cv(hp, maxlen, max_features, X, y, cv):\n",
    "    scores = []\n",
    "    skf = StratifiedKFold(n_splits=cv)\n",
    "    for i, (train_index, test_index) in enumerate(skf.split(X,y)):\n",
    "        inp = Input(shape=(maxlen, ))\n",
    "        x = Embedding(max_features, hp['embed_size'])(inp)\n",
    "        if hp['bidirectional'] == 1:\n",
    "            x = Bidirectional(LSTM(hp['op_lstm_size'], return_sequences=True, dropout=hp['dropout_lstm'], recurrent_dropout=0))(x)\n",
    "        else:\n",
    "            x = LSTM(hp['op_lstm_size'], return_sequences=True, dropout=hp['dropout_lstm'], recurrent_dropout=0)(x)\n",
    "        if hp['attention'] == 1:\n",
    "            x = Attention(units=hp['attention_units'])(x)\n",
    "        else:\n",
    "            x = GlobalMaxPool1D()(x)\n",
    "        x = Dense(50, activation='relu')(x)\n",
    "        x = Dropout(hp['dropout'])(x)\n",
    "        x = Dense(1, activation=\"sigmoid\")(x)\n",
    "        model = Model(inputs=inp, outputs=x)\n",
    "        model.compile(loss='binary_crossentropy', \n",
    "                      optimizer=optimizers.Adam(), \n",
    "                      metrics=['accuracy'])\n",
    "        X_train = X[train_index]\n",
    "        y_train = y[train_index]\n",
    "        X_test = X[test_index]\n",
    "        y_true = y[test_index]\n",
    "        model.fit(X_train, y_train, epochs=hp['epochs'], batch_size=hp['batch_size'])\n",
    "        gc.collect()\n",
    "        y_pred = model.predict([X_test], batch_size=256, verbose=1)\n",
    "        y_pred = (y_pred > 0.5).astype(int)\n",
    "        scores.append(f1_score(y_true, y_pred, average = 'macro'))\n",
    "        gc.collect()\n",
    "        # You can add something here if you want to keep track of cv scores independently.\n",
    "    return model, np.mean(scores)\n",
    "        \n",
    "def objective(trial, maxlen, max_features, X, y, cv, apply_cv = False):\n",
    "    hp = {\n",
    "        'embed_size': trial.suggest_int('embed_size', 64, 256, step = 64),\n",
    "        'op_lstm_size': trial.suggest_int('op_lstm_size', 50, 60),\n",
    "        'dropout_lstm': trial.suggest_float('dropout_lstm', 0, 0.5),\n",
    "        'dropout': trial.suggest_float('dropout', 0, 0.5),\n",
    "        'epochs': trial.suggest_int('epochs', 2, 5),\n",
    "        'batch_size': trial.suggest_categorical('batch_size', [128,256,512,1024]),\n",
    "        'attention': trial.suggest_categorical('attention', [0,1]),\n",
    "        'attention_units': trial.suggest_categorical('attention_units', [16,32,64]),\n",
    "        'bidirectional': trial.suggest_categorical('bidirectional', [0,1])\n",
    "    }\n",
    "    \n",
    "    model, f1macro = build_lstm(hp, maxlen, max_features, X, y)\n",
    "\n",
    "    return f1macro"
   ]
  },
  {
   "cell_type": "code",
   "execution_count": null,
   "metadata": {
    "execution": {
     "iopub.execute_input": "2023-04-03T10:31:47.755009Z",
     "iopub.status.busy": "2023-04-03T10:31:47.754259Z",
     "iopub.status.idle": "2023-04-03T10:31:47.766895Z",
     "shell.execute_reply": "2023-04-03T10:31:47.765760Z",
     "shell.execute_reply.started": "2023-04-03T10:31:47.754958Z"
    },
    "executionInfo": {
     "elapsed": 2,
     "status": "ok",
     "timestamp": 1680188478071,
     "user": {
      "displayName": "Jaejun Shim",
      "userId": "09455022591387484755"
     },
     "user_tz": -480
    },
    "id": "n6S07RKxxLa7"
   },
   "outputs": [],
   "source": [
    "#optuna.logging.get_logger(\"optuna\").addHandler(logging.StreamHandler(sys.stdout))\n",
    "#study_name = \"cs3244-lstm-study-f1_macro\" \n",
    "#storage_name = \"sqlite:///{}.db\".format(study_name)"
   ]
  },
  {
   "cell_type": "code",
   "execution_count": null,
   "metadata": {
    "execution": {
     "iopub.execute_input": "2023-04-03T10:31:47.769127Z",
     "iopub.status.busy": "2023-04-03T10:31:47.768701Z",
     "iopub.status.idle": "2023-04-03T10:31:47.779169Z",
     "shell.execute_reply": "2023-04-03T10:31:47.777683Z",
     "shell.execute_reply.started": "2023-04-03T10:31:47.769086Z"
    }
   },
   "outputs": [],
   "source": [
    "#import os\n",
    "#os.system('rm /kaggle/working/cs3244-lstm-study-f1_macro.csv')\n",
    "#os.system('cp /kaggle/input/cs3244-lstm/cs3244-lstm-study.db /kaggle/working/cs3244-lstm-study.db')"
   ]
  },
  {
   "cell_type": "code",
   "execution_count": null,
   "metadata": {
    "execution": {
     "iopub.execute_input": "2023-04-03T10:49:09.302575Z",
     "iopub.status.busy": "2023-04-03T10:49:09.301472Z",
     "iopub.status.idle": "2023-04-03T11:01:00.885099Z",
     "shell.execute_reply": "2023-04-03T11:01:00.883513Z",
     "shell.execute_reply.started": "2023-04-03T10:49:09.302515Z"
    },
    "id": "CiI4hx4Qv0cz"
   },
   "outputs": [],
   "source": [
    "#cv = 5\n",
    "#study = optuna.create_study(direction=\"maximize\", sampler=TPESampler(), pruner=SuccessiveHalvingPruner(),\n",
    "#                            study_name=study_name, storage=storage_name, load_if_exists=True)\n",
    "#func = lambda trial: objective(trial, maxlen, max_features, X_train, y_train, cv, apply_cv = False)\n",
    "#study.optimize(func, n_trials=1, gc_after_trial=True)"
   ]
  },
  {
   "cell_type": "code",
   "execution_count": null,
   "metadata": {
    "execution": {
     "iopub.execute_input": "2023-04-03T11:01:00.889412Z",
     "iopub.status.busy": "2023-04-03T11:01:00.889043Z",
     "iopub.status.idle": "2023-04-03T11:01:00.941905Z",
     "shell.execute_reply": "2023-04-03T11:01:00.940397Z",
     "shell.execute_reply.started": "2023-04-03T11:01:00.889379Z"
    }
   },
   "outputs": [],
   "source": [
    "#study.trials_dataframe().to_csv(\"/kaggle/working/cs3244-lstm-study-f1_macro.csv\")\n",
    "#study.trials_dataframe()"
   ]
  },
  {
   "cell_type": "code",
   "execution_count": 10,
   "metadata": {
    "execution": {
     "iopub.execute_input": "2023-04-06T03:46:50.856666Z",
     "iopub.status.busy": "2023-04-06T03:46:50.856302Z",
     "iopub.status.idle": "2023-04-06T03:46:50.870566Z",
     "shell.execute_reply": "2023-04-06T03:46:50.869377Z",
     "shell.execute_reply.started": "2023-04-06T03:46:50.856627Z"
    },
    "id": "ZyQgaOdnyS6J"
   },
   "outputs": [],
   "source": [
    "## Loading Saved Outputs\n",
    "original_res_path = f'{path}original_data_tuning.csv'\n",
    "original_res = pd.read_csv(original_res_path)[['value', 'params_attention', 'params_attention_units', 'params_batch_size', \n",
    "                                               'params_bidirectional', 'params_dropout', 'params_dropout_lstm', 'params_embed_size', \n",
    "                                               'params_epochs', 'params_op_lstm_size']]"
   ]
  },
  {
   "cell_type": "code",
   "execution_count": 11,
   "metadata": {
    "execution": {
     "iopub.execute_input": "2023-04-06T03:46:52.428254Z",
     "iopub.status.busy": "2023-04-06T03:46:52.427769Z",
     "iopub.status.idle": "2023-04-06T03:46:52.436932Z",
     "shell.execute_reply": "2023-04-06T03:46:52.435760Z",
     "shell.execute_reply.started": "2023-04-06T03:46:52.428216Z"
    }
   },
   "outputs": [],
   "source": [
    "## Best Parameter for LSTM\n",
    "best_param = original_res[original_res['value'] == np.max(original_res['value'])].reset_index()\n",
    "best_param.columns = ['index', 'value', 'attention', 'attention_units', \n",
    "                      'batch_size', 'bidirectional', 'dropout', 'dropout_lstm', \n",
    "                      'embed_size', 'epochs', 'op_lstm_size']"
   ]
  },
  {
   "cell_type": "markdown",
   "metadata": {},
   "source": [
    "The resulting best parameters for LSTM model trained on original dataset is:\n",
    "* Attention: No Attention used.\n",
    "* batch_size: 256\n",
    "* bidirectional: bidirectional LSTM was used.\n",
    "* dropout: 0.32709\n",
    "* dropout_lstm: 0.33699\n",
    "* embed_size = 128\n",
    "* epochs = 2\n",
    "* op_lstm_size = 52\n",
    "* threshold_value = 0.45\n",
    "\n",
    "The Final Test Score on Test Set is:\n",
    "* Accuracy: 0.96\n",
    "* F1-Macro Score: 0.8685"
   ]
  },
  {
   "cell_type": "code",
   "execution_count": 13,
   "metadata": {
    "execution": {
     "iopub.execute_input": "2023-04-06T03:46:58.090681Z",
     "iopub.status.busy": "2023-04-06T03:46:58.089679Z",
     "iopub.status.idle": "2023-04-06T03:46:58.120719Z",
     "shell.execute_reply": "2023-04-06T03:46:58.119631Z",
     "shell.execute_reply.started": "2023-04-06T03:46:58.090641Z"
    }
   },
   "outputs": [],
   "source": [
    "## Finding Optimal Threshold\n",
    "#cv = 10\n",
    "#skf = StratifiedKFold(n_splits=cv)\n",
    "#output = []\n",
    "#indices = []\n",
    "#for i, (train_index, test_index) in enumerate(skf.split(X_train,y_train)):\n",
    "#    indices.append([train_index, test_index])\n",
    "## Storing CV split index. Run in separate runtimes.\n",
    "#X_train_idx = []\n",
    "#X_val_idx = []\n",
    "#for i in [0,1,2,3,4,5,6,7,8,9]:\n",
    "#    X_train_idx.append(indices[i][0])\n",
    "#    X_val_idx.append(indices[i][1])\n",
    "#X_train_idx = pd.DataFrame(X_train_idx)\n",
    "#X_val_idx = pd.DataFrame(X_val_idx)\n",
    "#X_train_idx.to_csv(\"/kaggle/working/X_train_idx.csv\")\n",
    "#X_val_idx.to_csv(\"/kaggle/working/X_val_idx.csv\")"
   ]
  },
  {
   "cell_type": "code",
   "execution_count": 22,
   "metadata": {
    "execution": {
     "iopub.execute_input": "2023-04-06T03:47:39.134150Z",
     "iopub.status.busy": "2023-04-06T03:47:39.133814Z",
     "iopub.status.idle": "2023-04-06T03:47:45.575433Z",
     "shell.execute_reply": "2023-04-06T03:47:45.574440Z",
     "shell.execute_reply.started": "2023-04-06T03:47:39.134122Z"
    }
   },
   "outputs": [],
   "source": [
    "train_idx_path = f'{path}X_train_idx.csv'\n",
    "val_idx_path = f'{path}X_val_idx.csv'\n",
    "X_train_idx = pd.read_csv(train_idx_path)\n",
    "X_val_idx = pd.read_csv(val_idx_path)"
   ]
  },
  {
   "cell_type": "code",
   "execution_count": 23,
   "metadata": {
    "execution": {
     "iopub.execute_input": "2023-04-06T03:47:45.579354Z",
     "iopub.status.busy": "2023-04-06T03:47:45.579001Z",
     "iopub.status.idle": "2023-04-06T03:47:45.584593Z",
     "shell.execute_reply": "2023-04-06T03:47:45.583487Z",
     "shell.execute_reply.started": "2023-04-06T03:47:45.579326Z"
    }
   },
   "outputs": [],
   "source": [
    "scores = []"
   ]
  },
  {
   "cell_type": "code",
   "execution_count": 33,
   "metadata": {
    "execution": {
     "iopub.execute_input": "2023-04-06T04:00:06.992223Z",
     "iopub.status.busy": "2023-04-06T04:00:06.991271Z",
     "iopub.status.idle": "2023-04-06T04:00:54.394393Z",
     "shell.execute_reply": "2023-04-06T04:00:54.393328Z",
     "shell.execute_reply.started": "2023-04-06T04:00:06.992170Z"
    }
   },
   "outputs": [
    {
     "name": "stdout",
     "output_type": "stream",
     "text": [
      "Epoch 1/2\n",
      "551/551 [==============================] - 18s 26ms/step - loss: 0.1896 - accuracy: 0.9346\n",
      "Epoch 2/2\n",
      "551/551 [==============================] - 14s 26ms/step - loss: 0.1067 - accuracy: 0.9593\n",
      "62/62 [==============================] - 1s 10ms/step\n"
     ]
    }
   ],
   "source": [
    "cv_idx = 9\n",
    "train_index = np.array(X_train_idx[X_train_idx['Unnamed: 0']==cv_idx])[0][1:len(np.array(X_train_idx[X_train_idx['Unnamed: 0']==0])[0])-2].astype('int')\n",
    "test_index = np.array(X_val_idx[X_val_idx['Unnamed: 0']==cv_idx])[0][1:len(np.array(X_val_idx[X_val_idx['Unnamed: 0']==0])[0])-2].astype('int')\n",
    "inp = Input(shape=(maxlen, ))\n",
    "x = Embedding(max_features, 128)(inp)\n",
    "x = Bidirectional(LSTM(52, return_sequences=True, dropout=0.333699, recurrent_dropout=0))(x)\n",
    "x = GlobalMaxPool1D()(x)\n",
    "x = Dense(50, activation='relu')(x)\n",
    "x = Dropout(0.32709)(x)\n",
    "x = Dense(1, activation=\"sigmoid\")(x)\n",
    "model = Model(inputs=inp, outputs=x)\n",
    "model.compile(loss='binary_crossentropy', \n",
    "              optimizer=optimizers.Adam(), \n",
    "              metrics=['accuracy'])\n",
    "X_t = X_train[train_index]\n",
    "y_t = y_train.iloc[train_index]\n",
    "X_v = X_train[test_index]\n",
    "y_v = y_train.iloc[test_index]\n",
    "model.fit(X_t, y_t, epochs=2, batch_size=256)\n",
    "y_pred = model.predict([X_v], batch_size=256, verbose=1)\n",
    "score = []\n",
    "for thresh in np.arange(0,1.01,0.05):\n",
    "    y_thresh = (y_pred > thresh).astype(int)\n",
    "    score.append(f1_score(y_v, y_thresh, average = 'macro'))\n",
    "scores.append(score)"
   ]
  },
  {
   "cell_type": "code",
   "execution_count": 34,
   "metadata": {
    "execution": {
     "iopub.execute_input": "2023-04-06T04:04:42.634760Z",
     "iopub.status.busy": "2023-04-06T04:04:42.633676Z",
     "iopub.status.idle": "2023-04-06T04:04:42.643754Z",
     "shell.execute_reply": "2023-04-06T04:04:42.642522Z",
     "shell.execute_reply.started": "2023-04-06T04:04:42.634710Z"
    }
   },
   "outputs": [],
   "source": [
    "#pd.DataFrame(scores).to_csv(\"/kaggle/working/threshold_scores_original.csv\")"
   ]
  },
  {
   "cell_type": "code",
   "execution_count": 36,
   "metadata": {
    "execution": {
     "iopub.execute_input": "2023-04-06T04:08:35.202584Z",
     "iopub.status.busy": "2023-04-06T04:08:35.201885Z",
     "iopub.status.idle": "2023-04-06T04:08:35.213868Z",
     "shell.execute_reply": "2023-04-06T04:08:35.212715Z",
     "shell.execute_reply.started": "2023-04-06T04:08:35.202544Z"
    }
   },
   "outputs": [],
   "source": [
    "threshold_path = f'{path}threshold_scores_original.csv'\n",
    "threshold_scores = pd.read_csv(threshold_path)\n",
    "scores = []\n",
    "for i in [0,1,2,3,4,5,6,7,8,9]:\n",
    "    score = np.array((threshold_scores[threshold_scores['Unnamed: 0']==i]))[0][1:22]\n",
    "    scores.append(score)\n",
    "avg_score = (np.array(scores[0]) + np.array(scores[1]) + np.array(scores[2]) + np.array(scores[3]) + np.array(scores[4]) + np.array(scores[5]) + np.array(scores[6]) + np.array(scores[7]) + np.array(scores[8]) + np.array(scores[9]))/10\n",
    "best_threshold = np.arange(0,1.01,0.05)[avg_score == np.max(avg_score)][0]"
   ]
  },
  {
   "cell_type": "code",
   "execution_count": 42,
   "metadata": {
    "execution": {
     "iopub.execute_input": "2023-04-06T04:09:19.424743Z",
     "iopub.status.busy": "2023-04-06T04:09:19.424296Z",
     "iopub.status.idle": "2023-04-06T04:09:19.711953Z",
     "shell.execute_reply": "2023-04-06T04:09:19.709360Z",
     "shell.execute_reply.started": "2023-04-06T04:09:19.424705Z"
    }
   },
   "outputs": [
    {
     "data": {
      "image/png": "[encoded data removed]",
      "text/plain": [
       "<Figure size 640x480 with 1 Axes>"
      ]
     },
     "metadata": {},
     "output_type": "display_data"
    }
   ],
   "source": [
    "## F1 Macro Scores by Threshold\n",
    "thresholds = np.arange(0,1.01,0.05)\n",
    "plt.plot(thresholds,scores[0], alpha=0.1)\n",
    "plt.plot(thresholds,scores[1], alpha=0.1)\n",
    "plt.plot(thresholds,scores[2], alpha=0.1)\n",
    "plt.plot(thresholds,scores[3], alpha=0.1)\n",
    "plt.plot(thresholds,scores[4], alpha=0.1)\n",
    "plt.plot(thresholds,scores[5], alpha=0.1)\n",
    "plt.plot(thresholds,scores[6], alpha=0.1)\n",
    "plt.plot(thresholds,scores[7], alpha=0.1)\n",
    "plt.plot(thresholds,scores[8], alpha=0.1)\n",
    "plt.plot(thresholds,scores[9], alpha=0.1)\n",
    "plt.plot(thresholds,avg_score)\n",
    "plt.title('F1 Score by Threshold Value by CV - Original')\n",
    "plt.ylabel('F1 Score')\n",
    "plt.xlabel('Threshold Values')\n",
    "plt.legend(['CV 1', 'CV 2','CV 3','CV 4', 'CV 5', 'CV 6', 'CV 7', 'CV 8', 'CV 9', 'CV 10', 'CV Avg'], loc='lower right')\n",
    "plt.show()"
   ]
  },
  {
   "cell_type": "code",
   "execution_count": 45,
   "metadata": {
    "execution": {
     "iopub.execute_input": "2023-04-06T04:09:57.703736Z",
     "iopub.status.busy": "2023-04-06T04:09:57.702588Z",
     "iopub.status.idle": "2023-04-06T04:09:57.711770Z",
     "shell.execute_reply": "2023-04-06T04:09:57.710461Z",
     "shell.execute_reply.started": "2023-04-06T04:09:57.703699Z"
    }
   },
   "outputs": [],
   "source": [
    "## LSTM CI from CV Results\n",
    "cv_f1_score_lstm = []\n",
    "for i in [0,1,2,3,4,5,6,7,8,9]:\n",
    "    f1_cv = scores[i][np.arange(0,1.01,0.05)==best_threshold]\n",
    "    cv_f1_score_lstm.append(f1_cv[0])\n",
    "lstm_mean = np.mean(cv_f1_score_lstm)\n",
    "lstm_std = np.std(cv_f1_score_lstm)\n",
    "lstm_ci = [lstm_mean - 3*lstm_std, lstm_mean + 3*lstm_std] ## Includes 99.7% numbers around est. mean."
   ]
  },
  {
   "cell_type": "code",
   "execution_count": 46,
   "metadata": {
    "execution": {
     "iopub.execute_input": "2023-04-06T04:09:58.820470Z",
     "iopub.status.busy": "2023-04-06T04:09:58.819774Z",
     "iopub.status.idle": "2023-04-06T04:09:58.826232Z",
     "shell.execute_reply": "2023-04-06T04:09:58.824858Z",
     "shell.execute_reply.started": "2023-04-06T04:09:58.820431Z"
    }
   },
   "outputs": [
    {
     "name": "stdout",
     "output_type": "stream",
     "text": [
      "Mean CV Score: 0.8702824188741103\n",
      "Standard Deviation CV Score: 0.0036274724586236057\n"
     ]
    }
   ],
   "source": [
    "print(\"Mean CV Score: {}\".format(lstm_mean))\n",
    "print(\"Standard Deviation CV Score: {}\".format(lstm_std))\n",
    "print(\"99.7% Confidence Interval: {}\".format(lstm_ci))"
   ]
  },
  {
   "cell_type": "code",
   "execution_count": 48,
   "metadata": {
    "execution": {
     "iopub.execute_input": "2023-04-06T04:10:16.795940Z",
     "iopub.status.busy": "2023-04-06T04:10:16.795410Z",
     "iopub.status.idle": "2023-04-06T04:11:04.678390Z",
     "shell.execute_reply": "2023-04-06T04:11:04.677162Z",
     "shell.execute_reply.started": "2023-04-06T04:10:16.795895Z"
    }
   },
   "outputs": [
    {
     "name": "stdout",
     "output_type": "stream",
     "text": [
      "Epoch 1/2\n",
      "612/612 [==============================] - 19s 26ms/step - loss: 0.1809 - accuracy: 0.9359\n",
      "Epoch 2/2\n",
      "612/612 [==============================] - 16s 26ms/step - loss: 0.1056 - accuracy: 0.9594\n",
      "262/262 [==============================] - 3s 8ms/step\n",
      "[LSTM] F1 Macro score is 0.8685497068319775\n",
      "[[59254  1175]\n",
      " [ 1830  4806]]\n",
      "              precision    recall  f1-score   support\n",
      "\n",
      "           0       0.97      0.98      0.98     60429\n",
      "           1       0.80      0.72      0.76      6636\n",
      "\n",
      "    accuracy                           0.96     67065\n",
      "   macro avg       0.89      0.85      0.87     67065\n",
      "weighted avg       0.95      0.96      0.95     67065\n",
      "\n"
     ]
    }
   ],
   "source": [
    "## Final Test on Test Data\n",
    "inp = Input(shape=(maxlen, ))\n",
    "x = Embedding(max_features, 128)(inp)\n",
    "x = Bidirectional(LSTM(52, return_sequences=True, dropout=0.333699, recurrent_dropout=0))(x)\n",
    "x = GlobalMaxPool1D()(x)\n",
    "x = Dense(50, activation='relu')(x)\n",
    "x = Dropout(0.32709)(x)\n",
    "x = Dense(1, activation=\"sigmoid\")(x)\n",
    "model = Model(inputs=inp, outputs=x)\n",
    "model.compile(loss='binary_crossentropy', \n",
    "              optimizer=optimizers.Adam(), \n",
    "              metrics=['accuracy'])\n",
    "model.fit(X_train, y_train, epochs=2, batch_size=256)\n",
    "y_pred = model.predict([X_test], batch_size=256, verbose=1)\n",
    "y_pred = (y_pred > best_threshold).astype(int)\n",
    "print('[LSTM] F1 Macro score is {}'.format(f1_score(y_test, y_pred, average = 'macro')))\n",
    "print(confusion_matrix(y_test,y_pred))\n",
    "print(classification_report(y_test,y_pred))"
   ]
  }
 ],
 "metadata": {
  "kernelspec": {
   "display_name": "Python 3",
   "language": "python",
   "name": "python3"
  },
  "language_info": {
   "codemirror_mode": {
    "name": "ipython",
    "version": 3
   },
   "file_extension": ".py",
   "mimetype": "text/x-python",
   "name": "python",
   "nbconvert_exporter": "python",
   "pygments_lexer": "ipython3",
   "version": "3.10.12"
  }
 },
 "nbformat": 4,
 "nbformat_minor": 4
}
