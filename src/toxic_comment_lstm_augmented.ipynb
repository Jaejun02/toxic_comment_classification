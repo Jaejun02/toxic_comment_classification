{
 "cells": [
  {
   "cell_type": "markdown",
   "metadata": {},
   "source": [
    "# Importing Libraries"
   ]
  },
  {
   "cell_type": "code",
   "execution_count": null,
   "metadata": {
    "execution": {
     "iopub.execute_input": "2023-04-08T10:56:28.614859Z",
     "iopub.status.busy": "2023-04-08T10:56:28.613940Z",
     "iopub.status.idle": "2023-04-08T10:57:06.351102Z",
     "shell.execute_reply": "2023-04-08T10:57:06.349971Z",
     "shell.execute_reply.started": "2023-04-08T10:56:28.614812Z"
    },
    "executionInfo": {
     "elapsed": 17319,
     "status": "ok",
     "timestamp": 1680188243704,
     "user": {
      "displayName": "Jaejun Shim",
      "userId": "09455022591387484755"
     },
     "user_tz": -480
    },
    "id": "vdUTWQPYdJP2",
    "outputId": "1d144387-aed2-4084-e47d-3a77b58efea4",
    "trusted": true
   },
   "outputs": [],
   "source": [
    "## Import Libraries\n",
    "#! pip install optuna\n",
    "! pip install attention\n",
    "\n",
    "import numpy as np\n",
    "import pandas as pd\n",
    "import seaborn as sns\n",
    "import matplotlib.pyplot as plt\n",
    "import string\n",
    "\n",
    "from sklearn.model_selection import train_test_split\n",
    "\n",
    "from keras.preprocessing.text import Tokenizer\n",
    "from keras.utils import pad_sequences\n",
    "\n",
    "import logging\n",
    "import sys\n",
    "\n",
    "from keras.layers import Dense, Input, LSTM, Embedding, Dropout, Activation\n",
    "from keras.layers import Bidirectional, GlobalMaxPool1D\n",
    "from attention import Attention\n",
    "from keras.models import Model\n",
    "from keras import initializers, regularizers, constraints, optimizers, layers\n",
    "import optuna\n",
    "from sklearn.model_selection import StratifiedKFold\n",
    "\n",
    "from optuna.pruners import SuccessiveHalvingPruner\n",
    "from optuna.samplers import TPESampler\n",
    "\n",
    "from sklearn.metrics import f1_score,classification_report,confusion_matrix\n",
    "\n",
    "import warnings\n",
    "warnings.filterwarnings('ignore')\n",
    "\n",
    "random = 14"
   ]
  },
  {
   "cell_type": "markdown",
   "metadata": {},
   "source": [
    "# Import and Preprocess Datasets\n",
    "\n",
    "1. Read `train_augmented_synonym.csv` and `test.csv` that are created prior to this notebook.\n",
    "    - `train_augmented_synonym.csv` is a training set created from splitted train data, in which minority target values are duplicated where parts of words are replaced with synonyms.\n",
    "    - Target values are already forced to binary.\n",
    "2. Perform Exploratory Data Analysis.\n",
    "3. Perform text preprocessing: Lower Casing, Counting number of words etc.\n",
    "4. Tokenizing and Padding Text Data."
   ]
  },
  {
   "cell_type": "code",
   "execution_count": 2,
   "metadata": {
    "execution": {
     "iopub.execute_input": "2023-04-08T10:57:06.354005Z",
     "iopub.status.busy": "2023-04-08T10:57:06.353349Z",
     "iopub.status.idle": "2023-04-08T10:57:06.358907Z",
     "shell.execute_reply": "2023-04-08T10:57:06.357763Z",
     "shell.execute_reply.started": "2023-04-08T10:57:06.353951Z"
    },
    "trusted": true
   },
   "outputs": [],
   "source": [
    "## Dataset Paths\n",
    "path = '/kaggle/input/cs3244-lstm/'\n",
    "train_path = f'{path}train_augmented_synonym.csv'\n",
    "test_path = f'{path}test_aug.csv'"
   ]
  },
  {
   "cell_type": "code",
   "execution_count": 3,
   "metadata": {
    "execution": {
     "iopub.execute_input": "2023-04-08T10:57:06.360956Z",
     "iopub.status.busy": "2023-04-08T10:57:06.360336Z",
     "iopub.status.idle": "2023-04-08T10:57:09.481867Z",
     "shell.execute_reply": "2023-04-08T10:57:09.480797Z",
     "shell.execute_reply.started": "2023-04-08T10:57:06.360920Z"
    },
    "executionInfo": {
     "elapsed": 4357,
     "status": "ok",
     "timestamp": 1680188249386,
     "user": {
      "displayName": "Jaejun Shim",
      "userId": "09455022591387484755"
     },
     "user_tz": -480
    },
    "id": "YV_7UhD3fV0H",
    "outputId": "04e60acf-d321-4e04-9e82-24a7d4f8bfd4",
    "trusted": true
   },
   "outputs": [],
   "source": [
    "## Reading Datasets\n",
    "D = pd.read_csv(train_path)\n",
    "test = pd.read_csv(test_path)"
   ]
  },
  {
   "cell_type": "markdown",
   "metadata": {
    "id": "6qGFV8CgfcbS"
   },
   "source": [
    "## Exploratory Data Analysis"
   ]
  },
  {
   "cell_type": "code",
   "execution_count": null,
   "metadata": {
    "execution": {
     "iopub.execute_input": "2023-04-07T14:56:57.061560Z",
     "iopub.status.busy": "2023-04-07T14:56:57.060521Z",
     "iopub.status.idle": "2023-04-07T14:56:57.124768Z",
     "shell.execute_reply": "2023-04-07T14:56:57.123512Z",
     "shell.execute_reply.started": "2023-04-07T14:56:57.061515Z"
    },
    "executionInfo": {
     "elapsed": 1350,
     "status": "ok",
     "timestamp": 1680163406674,
     "user": {
      "displayName": "Jaejun Shim",
      "userId": "09455022591387484755"
     },
     "user_tz": -480
    },
    "id": "dDd076yNfb2j",
    "outputId": "75cfbaad-bbb0-4977-a471-ba867b7334dc",
    "trusted": true
   },
   "outputs": [],
   "source": [
    "## Checking Null Entries\n",
    "print(\"Number of Null Data: \" + str(D.isnull().sum().sum()))\n",
    "\n",
    "## Checking Dimensions\n",
    "print(\"Number of Variables: \")\n",
    "print(D.shape[1])\n",
    "print(\"\\nNumber of Data Points: \")\n",
    "print(D.shape[0])\n",
    "\n",
    "## Structure of the Dataset\n",
    "D.head()"
   ]
  },
  {
   "cell_type": "code",
   "execution_count": null,
   "metadata": {
    "execution": {
     "iopub.execute_input": "2023-04-05T14:50:25.404774Z",
     "iopub.status.busy": "2023-04-05T14:50:25.404261Z",
     "iopub.status.idle": "2023-04-05T14:50:25.483414Z",
     "shell.execute_reply": "2023-04-05T14:50:25.481938Z",
     "shell.execute_reply.started": "2023-04-05T14:50:25.404689Z"
    },
    "executionInfo": {
     "elapsed": 1240,
     "status": "ok",
     "timestamp": 1680163441057,
     "user": {
      "displayName": "Jaejun Shim",
      "userId": "09455022591387484755"
     },
     "user_tz": -480
    },
    "id": "MMBS9NzdiwIW",
    "outputId": "13ed2413-8c17-4435-a24f-f1580d3f6ac6",
    "trusted": true
   },
   "outputs": [],
   "source": [
    "## Checks for Creating New Dependent Variable\n",
    "def analyze_var(df, col_list):\n",
    "    col_list_v = col_list[1:]\n",
    "    res = pd.DataFrame(col_list_v)\n",
    "    for dv in col_list_v:\n",
    "        count = []\n",
    "        D_dv = D.loc[D[dv]==1]\n",
    "        for dv2 in col_list_v:\n",
    "            D_dv_dv2 = D_dv.loc[D_dv[dv2]==1]\n",
    "            count.append(D_dv_dv2.shape[0])\n",
    "        res = pd.concat([res,pd.DataFrame(count)],axis=1)\n",
    "    res.columns = col_list\n",
    "    return res\n",
    "\n",
    "analyze_var(D, ['var_count','toxic', 'severe_toxic', 'obscene', 'threat', 'insult', 'identity_hate'])"
   ]
  },
  {
   "cell_type": "code",
   "execution_count": null,
   "metadata": {
    "execution": {
     "iopub.execute_input": "2023-04-07T14:57:07.741705Z",
     "iopub.status.busy": "2023-04-07T14:57:07.741162Z",
     "iopub.status.idle": "2023-04-07T14:57:08.035620Z",
     "shell.execute_reply": "2023-04-07T14:57:08.034611Z",
     "shell.execute_reply.started": "2023-04-07T14:57:07.741647Z"
    },
    "executionInfo": {
     "elapsed": 1048,
     "status": "ok",
     "timestamp": 1680163532433,
     "user": {
      "displayName": "Jaejun Shim",
      "userId": "09455022591387484755"
     },
     "user_tz": -480
    },
    "id": "3BenLBhWjHzP",
    "outputId": "3482a758-db61-4a5b-bd51-cdecea1d4ddf",
    "trusted": true
   },
   "outputs": [],
   "source": [
    "## Distribution of Dependent Variable - Malignant\n",
    "sns.countplot(data = D, x= 'malignant')\n",
    "print(\"Number of Non-Malignant Comments: {0}\".format(sum(D['malignant'] == 0)))\n",
    "print(\"Number of Malignant Comments: {0}\".format(sum(D['malignant'] == 1)))"
   ]
  },
  {
   "cell_type": "markdown",
   "metadata": {
    "id": "WvOkqSb1jTH-"
   },
   "source": [
    "## Preprocessing and Feature Extraction"
   ]
  },
  {
   "cell_type": "markdown",
   "metadata": {
    "id": "TwSDIcerjYD5"
   },
   "source": [
    "Puncuations that are found to express emotions in chats are counted separately once again. Those punctuations are chosen from the sources below:\n",
    "\n",
    "1. \"The interactional principle in digital punctuation\": https://www.sciencedirect.com/science/article/pii/S2211695821000180\n",
    "2. \"Punctuation is the New Measure of Emotion\": https://ericadhawan.medium.com/punctuation-is-the-new-measure-of-emotion-329b684743f0"
   ]
  },
  {
   "cell_type": "code",
   "execution_count": 4,
   "metadata": {
    "execution": {
     "iopub.execute_input": "2023-04-08T10:57:43.192512Z",
     "iopub.status.busy": "2023-04-08T10:57:43.192155Z",
     "iopub.status.idle": "2023-04-08T10:58:10.365624Z",
     "shell.execute_reply": "2023-04-08T10:58:10.364569Z",
     "shell.execute_reply.started": "2023-04-08T10:57:43.192481Z"
    },
    "executionInfo": {
     "elapsed": 59873,
     "status": "ok",
     "timestamp": 1680188309251,
     "user": {
      "displayName": "Jaejun Shim",
      "userId": "09455022591387484755"
     },
     "user_tz": -480
    },
    "id": "YEZyEWg0jR1c",
    "trusted": true
   },
   "outputs": [],
   "source": [
    "## Text Feature Extraction - D\n",
    "\n",
    "#### Make Strings to Lower Case\n",
    "D['comment_text'] = D['comment_text'].str.lower()\n",
    "\n",
    "#### Keep Track of String's Original Length\n",
    "D['length'] = D['comment_text'].str.len()\n",
    "\n",
    "#### Replace Email Address with 'email'\n",
    "D['comment_text'] = D['comment_text'].str.replace(r'^.+@[^\\.].*\\.[a-z]{2,}$','email')\n",
    "\n",
    "#### Replace Website Address with 'website'\n",
    "D['comment_text'] = D['comment_text'].str.replace(r'^http[s]{0,1}\\://[a-zA-Z0-9\\-\\.]+\\.[a-zA-Z]{2,3}(/\\S*)?$','website')\n",
    "\n",
    "#### Replace Website Address with 'phonenumber'\n",
    "D['comment_text'] = D['comment_text'].str.replace(r'^\\(?[\\d]{3}\\)?[\\s-]?[\\d]{3}[\\s-]?[\\d]{4}$','phonenumber') # Note, might contain a random 10 digit number.\n",
    "\n",
    "#### Replace Numbers with 'numbrs'\n",
    "D['comment_text'] = D['comment_text'].str.replace(r'\\d+(\\.\\d+)?', 'numbr')\n",
    "\n",
    "#### Special Punctuations are Replaced Explicitly.\n",
    "D['comment_text'] = D['comment_text'].str.replace(r'!',' exclamationmark')\n",
    "D['comment_text'] = D['comment_text'].str.replace(r'\\?',' questionmark')\n",
    "D['comment_text'] = D['comment_text'].str.replace(r'\\.{1}',' periodmark')\n",
    "D['comment_text'] = D['comment_text'].str.replace(r'\\.{2,}',' ellipsismark')\n",
    "D['comment_text'] = D['comment_text'].str.replace(r'£|\\$', ' dollers')\n",
    "\n",
    "## Removing Leftover Punctuations\n",
    "def remove_punct(text):\n",
    "    p_free=\"\".join([i for i in text if i not in string.punctuation])\n",
    "    return p_free\n",
    "D['comment_text'] = D['comment_text'].apply(lambda x:remove_punct(x))"
   ]
  },
  {
   "cell_type": "code",
   "execution_count": 5,
   "metadata": {
    "execution": {
     "iopub.execute_input": "2023-04-08T10:58:10.369209Z",
     "iopub.status.busy": "2023-04-08T10:58:10.368727Z",
     "iopub.status.idle": "2023-04-08T10:58:16.795579Z",
     "shell.execute_reply": "2023-04-08T10:58:16.794475Z",
     "shell.execute_reply.started": "2023-04-08T10:58:10.369167Z"
    },
    "trusted": true
   },
   "outputs": [],
   "source": [
    "## Text Pre-Processing - Test\n",
    "\n",
    "#### Make Strings to Lower Case\n",
    "test['comment_text'] = test['comment_text'].str.lower()\n",
    "\n",
    "#### Keep Track of String's Original Length\n",
    "test['length'] = test['comment_text'].str.len()\n",
    "\n",
    "#### Replace Email Address with 'email'\n",
    "test['comment_text'] = test['comment_text'].str.replace(r'^.+@[^\\.].*\\.[a-z]{2,}$','email')\n",
    "\n",
    "#### Replace Website Address with 'website'\n",
    "test['comment_text'] = test['comment_text'].str.replace(r'^http[s]{0,1}\\://[a-zA-Z0-9\\-\\.]+\\.[a-zA-Z]{2,3}(/\\S*)?$','website')\n",
    "\n",
    "#### Replace Website Address with 'phonenumber'\n",
    "test['comment_text'] = test['comment_text'].str.replace(r'^\\(?[\\d]{3}\\)?[\\s-]?[\\d]{3}[\\s-]?[\\d]{4}$','phonenumber') # Note, might contain a random 10 digit number.\n",
    "\n",
    "#### Replace Numbers with 'numbrs'\n",
    "test['comment_text'] = test['comment_text'].str.replace(r'\\d+(\\.\\d+)?', 'numbr')\n",
    "\n",
    "#### Special Punctuations are Replaced Explicitly.\n",
    "test['comment_text'] = test['comment_text'].str.replace(r'!',' exclamationmark')\n",
    "test['comment_text'] = test['comment_text'].str.replace(r'\\?',' questionmark')\n",
    "test['comment_text'] = test['comment_text'].str.replace(r'\\.{1}',' periodmark')\n",
    "test['comment_text'] = test['comment_text'].str.replace(r'\\.{2,}',' ellipsismark')\n",
    "test['comment_text'] = test['comment_text'].str.replace(r'£|\\$', ' dollers')\n",
    "\n",
    "## Removing Leftover Punctuations\n",
    "def remove_punct(text):\n",
    "    p_free=\"\".join([i for i in text if i not in string.punctuation])\n",
    "    return p_free\n",
    "test['comment_text'] = test['comment_text'].apply(lambda x:remove_punct(x))"
   ]
  },
  {
   "cell_type": "code",
   "execution_count": 8,
   "metadata": {
    "execution": {
     "iopub.execute_input": "2023-04-08T10:59:03.870633Z",
     "iopub.status.busy": "2023-04-08T10:59:03.869869Z",
     "iopub.status.idle": "2023-04-08T10:59:37.755895Z",
     "shell.execute_reply": "2023-04-08T10:59:37.754705Z",
     "shell.execute_reply.started": "2023-04-08T10:59:03.870595Z"
    },
    "executionInfo": {
     "elapsed": 33114,
     "status": "ok",
     "timestamp": 1680188342362,
     "user": {
      "displayName": "Jaejun Shim",
      "userId": "09455022591387484755"
     },
     "user_tz": -480
    },
    "id": "OoLUAf6Xj9DT",
    "trusted": true
   },
   "outputs": [],
   "source": [
    "## Tokenizing Strings\n",
    "X_train = D['comment_text']\n",
    "y_train = D['malignant']\n",
    "X_test = test['comment_text']\n",
    "y_test = test['malignant']\n",
    "\n",
    "train_text = X_train.fillna(\"_na_\").values\n",
    "test_text = X_test.fillna(\"_na_\").values\n",
    "\n",
    "max_features = 20000\n",
    "\n",
    "tokenizer = Tokenizer(num_words=max_features)\n",
    "tokenizer.fit_on_texts(list(train_text))\n",
    "tokenized_train = tokenizer.texts_to_sequences(train_text)\n",
    "tokenized_test = tokenizer.texts_to_sequences(test_text)"
   ]
  },
  {
   "cell_type": "code",
   "execution_count": null,
   "metadata": {
    "execution": {
     "iopub.execute_input": "2023-04-07T14:58:58.721894Z",
     "iopub.status.busy": "2023-04-07T14:58:58.721457Z",
     "iopub.status.idle": "2023-04-07T14:58:58.728944Z",
     "shell.execute_reply": "2023-04-07T14:58:58.727744Z",
     "shell.execute_reply.started": "2023-04-07T14:58:58.721851Z"
    },
    "trusted": true
   },
   "outputs": [],
   "source": [
    "print(\"Number of observations in X_train: {}\".format(X_train.shape[0]))\n",
    "print(\"Number of observations in X_test: {}\".format(X_test.shape[0]))"
   ]
  },
  {
   "cell_type": "code",
   "execution_count": null,
   "metadata": {
    "execution": {
     "iopub.execute_input": "2023-04-07T14:58:58.731974Z",
     "iopub.status.busy": "2023-04-07T14:58:58.730655Z",
     "iopub.status.idle": "2023-04-07T14:58:59.916703Z",
     "shell.execute_reply": "2023-04-07T14:58:59.915649Z",
     "shell.execute_reply.started": "2023-04-07T14:58:58.731934Z"
    },
    "executionInfo": {
     "elapsed": 1872,
     "status": "ok",
     "timestamp": 1680166452554,
     "user": {
      "displayName": "Jaejun Shim",
      "userId": "09455022591387484755"
     },
     "user_tz": -480
    },
    "id": "-hWrynfQnwx9",
    "outputId": "b0d540e3-22f2-40e1-b66c-88b63050d11c",
    "trusted": true
   },
   "outputs": [],
   "source": [
    "## Distribution of Number of Words.\n",
    "totalNumWords = [len(text) for text in tokenized_train]\n",
    "plt.hist(totalNumWords,bins = np.arange(0,410,10))\n",
    "plt.title('Histogram of Document Length')\n",
    "plt.ylabel('Document Frequency')\n",
    "plt.xlabel('Document Length')\n",
    "plt.show()"
   ]
  },
  {
   "cell_type": "code",
   "execution_count": 9,
   "metadata": {
    "execution": {
     "iopub.execute_input": "2023-04-08T10:59:46.871489Z",
     "iopub.status.busy": "2023-04-08T10:59:46.870753Z",
     "iopub.status.idle": "2023-04-08T10:59:49.124410Z",
     "shell.execute_reply": "2023-04-08T10:59:49.123193Z",
     "shell.execute_reply.started": "2023-04-08T10:59:46.871450Z"
    },
    "executionInfo": {
     "elapsed": 2208,
     "status": "ok",
     "timestamp": 1680188344562,
     "user": {
      "displayName": "Jaejun Shim",
      "userId": "09455022591387484755"
     },
     "user_tz": -480
    },
    "id": "ifZWXuwhn0w1",
    "trusted": true
   },
   "outputs": [],
   "source": [
    "## Pad the Tokenized List - Evening Length\n",
    "maxlen = 150\n",
    "X_train = pad_sequences(tokenized_train, maxlen=maxlen)\n",
    "X_test = pad_sequences(tokenized_test, maxlen=maxlen)"
   ]
  },
  {
   "cell_type": "markdown",
   "metadata": {},
   "source": [
    "## Building and Training Model - LSTM on Synonym Augmented Data"
   ]
  },
  {
   "cell_type": "code",
   "execution_count": null,
   "metadata": {
    "execution": {
     "iopub.execute_input": "2023-04-07T14:59:21.505389Z",
     "iopub.status.busy": "2023-04-07T14:59:21.505022Z",
     "iopub.status.idle": "2023-04-07T14:59:21.525296Z",
     "shell.execute_reply": "2023-04-07T14:59:21.524197Z",
     "shell.execute_reply.started": "2023-04-07T14:59:21.505355Z"
    },
    "executionInfo": {
     "elapsed": 8,
     "status": "ok",
     "timestamp": 1680188344563,
     "user": {
      "displayName": "Jaejun Shim",
      "userId": "09455022591387484755"
     },
     "user_tz": -480
    },
    "id": "RiKa9Z7tn817",
    "trusted": true
   },
   "outputs": [],
   "source": [
    "def build_lstm(hp, maxlen, max_features, X, y):\n",
    "    inp = Input(shape=(maxlen, ))\n",
    "    x = Embedding(max_features, hp['embed_size'])(inp)\n",
    "    x = Bidirectional(LSTM(hp['op_lstm_size'], return_sequences=True, dropout=hp['dropout_lstm'], recurrent_dropout=0))(x)\n",
    "    if hp['attention'] == 1:\n",
    "        x = Attention(units=hp['attention_units'])(x)\n",
    "    else:\n",
    "        x = GlobalMaxPool1D()(x)\n",
    "    x = Dense(50, activation='relu')(x)\n",
    "    x = Dropout(hp['dropout'])(x)\n",
    "    x = Dense(1, activation=\"sigmoid\")(x)\n",
    "    model = Model(inputs=inp, outputs=x)\n",
    "    model.compile(loss='binary_crossentropy', \n",
    "                  optimizer=optimizers.Adam(), \n",
    "                  metrics=['accuracy'])\n",
    "    X_t, X_v, y_t, y_v = train_test_split(X, y, test_size=0.5, random_state=random)\n",
    "    model.fit(X_t, y_t, epochs=hp['epochs'], batch_size=hp['batch_size'])\n",
    "    y_pred = model.predict([X_v], batch_size=256, verbose=1)\n",
    "    y_pred = (y_pred > 0.5).astype(int)\n",
    "    score = f1_score(y_v, y_pred, average = 'macro')\n",
    "    return model, score#np.mean(scores)\n",
    "\n",
    "def build_lstm_cv(hp, maxlen, max_features, X, y, cv):\n",
    "    scores = []\n",
    "    skf = StratifiedKFold(n_splits=cv)\n",
    "    for i, (train_index, test_index) in enumerate(skf.split(X,y)):\n",
    "        inp = Input(shape=(maxlen, ))\n",
    "        x = Embedding(max_features, hp['embed_size'])(inp)\n",
    "        if hp['bidirectional'] == 1:\n",
    "            x = Bidirectional(LSTM(hp['op_lstm_size'], return_sequences=True, dropout=hp['dropout_lstm'], recurrent_dropout=0))(x)\n",
    "        else:\n",
    "            x = LSTM(hp['op_lstm_size'], return_sequences=True, dropout=hp['dropout_lstm'], recurrent_dropout=0)(x)\n",
    "        if hp['attention'] == 1:\n",
    "            x = Attention(units=hp['attention_units'])(x)\n",
    "        else:\n",
    "            x = GlobalMaxPool1D()(x)\n",
    "        x = Dense(50, activation='relu')(x)\n",
    "        x = Dropout(hp['dropout'])(x)\n",
    "        x = Dense(1, activation=\"sigmoid\")(x)\n",
    "        model = Model(inputs=inp, outputs=x)\n",
    "        model.compile(loss='binary_crossentropy', \n",
    "                      optimizer=optimizers.Adam(), \n",
    "                      metrics=['accuracy'])\n",
    "        X_train = X[train_index]\n",
    "        y_train = y[train_index]\n",
    "        X_test = X[test_index]\n",
    "        y_true = y[test_index]\n",
    "        model.fit(X_train, y_train, epochs=hp['epochs'], batch_size=hp['batch_size'])\n",
    "        gc.collect()\n",
    "        y_pred = model.predict([X_test], batch_size=256, verbose=1)\n",
    "        y_pred = (y_pred > 0.5).astype(int)\n",
    "        scores.append(f1_score(y_true, y_pred, average = 'macro'))\n",
    "        gc.collect()\n",
    "        # You can add something here if you want to keep track of cv scores independently.\n",
    "    return model, np.mean(scores)\n",
    "        \n",
    "def objective(trial, maxlen, max_features, X, y, cv, apply_cv = False):\n",
    "    hp = {\n",
    "        'embed_size': trial.suggest_int('embed_size', 64, 256, step = 64),\n",
    "        'op_lstm_size': trial.suggest_int('op_lstm_size', 50, 60),\n",
    "        'dropout_lstm': trial.suggest_float('dropout_lstm', 0, 0.5),\n",
    "        'dropout': trial.suggest_float('dropout', 0, 0.5),\n",
    "        'epochs': trial.suggest_int('epochs', 2, 5),\n",
    "        'batch_size': trial.suggest_categorical('batch_size', [128,256,512,1024]),\n",
    "        'attention': trial.suggest_categorical('attention', [0,1]),\n",
    "        'attention_units': trial.suggest_categorical('attention_units', [16,32,64]),\n",
    "        'bidirectional': trial.suggest_categorical('bidirectional', [0,1])\n",
    "    }\n",
    "    \n",
    "    model, f1macro = build_lstm(hp, maxlen, max_features, X, y)\n",
    "\n",
    "    return f1macro"
   ]
  },
  {
   "cell_type": "code",
   "execution_count": null,
   "metadata": {
    "execution": {
     "iopub.execute_input": "2023-04-07T14:59:01.574114Z",
     "iopub.status.busy": "2023-04-07T14:59:01.573122Z",
     "iopub.status.idle": "2023-04-07T14:59:01.580241Z",
     "shell.execute_reply": "2023-04-07T14:59:01.579158Z",
     "shell.execute_reply.started": "2023-04-07T14:59:01.574055Z"
    },
    "executionInfo": {
     "elapsed": 2,
     "status": "ok",
     "timestamp": 1680188478071,
     "user": {
      "displayName": "Jaejun Shim",
      "userId": "09455022591387484755"
     },
     "user_tz": -480
    },
    "id": "n6S07RKxxLa7",
    "trusted": true
   },
   "outputs": [],
   "source": [
    "optuna.logging.get_logger(\"optuna\").addHandler(logging.StreamHandler(sys.stdout))\n",
    "study_name = \"cs3244-lstm-study-f1_macro\" \n",
    "storage_name = \"sqlite:///{}.db\".format(study_name)"
   ]
  },
  {
   "cell_type": "code",
   "execution_count": null,
   "metadata": {
    "execution": {
     "iopub.execute_input": "2023-04-03T10:31:47.769127Z",
     "iopub.status.busy": "2023-04-03T10:31:47.768701Z",
     "iopub.status.idle": "2023-04-03T10:31:47.779169Z",
     "shell.execute_reply": "2023-04-03T10:31:47.777683Z",
     "shell.execute_reply.started": "2023-04-03T10:31:47.769086Z"
    },
    "trusted": true
   },
   "outputs": [],
   "source": [
    "#import os\n",
    "#os.system('rm /kaggle/working/cs3244-lstm-study-f1_macro.csv')\n",
    "#os.system('cp /kaggle/input/cs3244-lstm/cs3244-lstm-study.db /kaggle/working/cs3244-lstm-study.db')"
   ]
  },
  {
   "cell_type": "code",
   "execution_count": null,
   "metadata": {
    "id": "CiI4hx4Qv0cz",
    "trusted": true
   },
   "outputs": [],
   "source": [
    "cv = 5\n",
    "study = optuna.create_study(direction=\"maximize\", sampler=TPESampler(), pruner=SuccessiveHalvingPruner(),\n",
    "                           study_name=study_name, storage=storage_name, load_if_exists=True)\n",
    "func = lambda trial: objective(trial, maxlen, max_features, X_train, y_train, cv, apply_cv = False)\n",
    "study.optimize(func, n_trials=100, gc_after_trial=True)"
   ]
  },
  {
   "cell_type": "code",
   "execution_count": null,
   "metadata": {
    "execution": {
     "iopub.execute_input": "2023-04-07T15:53:06.241483Z",
     "iopub.status.busy": "2023-04-07T15:53:06.241104Z",
     "iopub.status.idle": "2023-04-07T15:53:06.312232Z",
     "shell.execute_reply": "2023-04-07T15:53:06.311006Z",
     "shell.execute_reply.started": "2023-04-07T15:53:06.241447Z"
    },
    "trusted": true
   },
   "outputs": [],
   "source": [
    "study.trials_dataframe().to_csv(\"/kaggle/working/cs3244-lstm-study-f1_macro.csv\")\n",
    "study.trials_dataframe()"
   ]
  },
  {
   "cell_type": "code",
   "execution_count": null,
   "metadata": {
    "execution": {
     "iopub.execute_input": "2023-04-07T16:31:21.697182Z",
     "iopub.status.busy": "2023-04-07T16:31:21.696400Z",
     "iopub.status.idle": "2023-04-07T16:31:21.709365Z",
     "shell.execute_reply": "2023-04-07T16:31:21.708331Z",
     "shell.execute_reply.started": "2023-04-07T16:31:21.697123Z"
    },
    "id": "ZyQgaOdnyS6J",
    "trusted": true
   },
   "outputs": [],
   "source": [
    "## Loading Saved Outputs\n",
    "augmented_res_path = f'{path}augmented_data_tuning.csv'\n",
    "augmented_res = pd.read_csv(original_res_path)[['value', 'params_attention', 'params_attention_units', 'params_batch_size', \n",
    "                                               'params_bidirectional', 'params_dropout', 'params_dropout_lstm', 'params_embed_size', \n",
    "                                               'params_epochs', 'params_op_lstm_size']]"
   ]
  },
  {
   "cell_type": "code",
   "execution_count": null,
   "metadata": {
    "execution": {
     "iopub.execute_input": "2023-04-07T16:31:26.312098Z",
     "iopub.status.busy": "2023-04-07T16:31:26.311537Z",
     "iopub.status.idle": "2023-04-07T16:31:26.323775Z",
     "shell.execute_reply": "2023-04-07T16:31:26.322339Z",
     "shell.execute_reply.started": "2023-04-07T16:31:26.312050Z"
    },
    "trusted": true
   },
   "outputs": [],
   "source": [
    "## Best Parameter for LSTM\n",
    "best_param = augmented_res[augmented_res['value'] == np.max(augmented_res['value'])].reset_index()\n",
    "best_param.columns = ['index', 'value', 'attention', 'attention_units', \n",
    "                      'batch_size', 'bidirectional', 'dropout', 'dropout_lstm', \n",
    "                      'embed_size', 'epochs', 'op_lstm_size']"
   ]
  },
  {
   "cell_type": "markdown",
   "metadata": {},
   "source": [
    "The resulting best parameters for LSTM model trained on original dataset is:\n",
    "* Attention: No Attention used.\n",
    "* batch_size: 128\n",
    "* bidirectional: No Bidirectional.\n",
    "* dropout: 0.416\n",
    "* dropout_lstm: 0.010\n",
    "* embed_size = 256\n",
    "* epochs = 3\n",
    "* op_lstm_size = 60\n",
    "* threshold_value = 0.55\n",
    "\n",
    "The Final Test Score on Test Set is:\n",
    "* Accuracy: 0.95\n",
    "* F1-Macro Score: 0.8481"
   ]
  },
  {
   "cell_type": "code",
   "execution_count": 10,
   "metadata": {
    "execution": {
     "iopub.execute_input": "2023-04-08T10:59:54.865519Z",
     "iopub.status.busy": "2023-04-08T10:59:54.864844Z",
     "iopub.status.idle": "2023-04-08T10:59:59.419041Z",
     "shell.execute_reply": "2023-04-08T10:59:59.417750Z",
     "shell.execute_reply.started": "2023-04-08T10:59:54.865480Z"
    },
    "trusted": true
   },
   "outputs": [],
   "source": [
    "D_augs = []\n",
    "Ds = []\n",
    "for i in [0,1,2,3,4,5,6,7,8,9]:\n",
    "    temp_path = f'{path}D_CV_{i}.csv'\n",
    "    temp_aug_path = f'{path}D_CV_{i}_aug.csv'\n",
    "    D_temp = pd.read_csv(temp_path)\n",
    "    D_aug_temp = pd.read_csv(temp_aug_path)\n",
    "    Ds.append(D_temp)\n",
    "    D_augs.append(D_aug_temp)"
   ]
  },
  {
   "cell_type": "code",
   "execution_count": 11,
   "metadata": {
    "execution": {
     "iopub.execute_input": "2023-04-08T10:59:59.421325Z",
     "iopub.status.busy": "2023-04-08T10:59:59.420917Z",
     "iopub.status.idle": "2023-04-08T10:59:59.783966Z",
     "shell.execute_reply": "2023-04-08T10:59:59.782802Z",
     "shell.execute_reply.started": "2023-04-08T10:59:59.421268Z"
    },
    "trusted": true
   },
   "outputs": [],
   "source": [
    "X_ts = []\n",
    "y_ts = []\n",
    "X_vs = []\n",
    "y_vs = []\n",
    "for i in [0,1,2,3,4,5,6,7,8,9]:\n",
    "    D_temp = pd.DataFrame()\n",
    "    for j in [0,1,2,3,4,5,6,7,8,9]:\n",
    "        if j != i:\n",
    "            D_temp = pd.concat([D_temp, D_augs[j]],axis=0)\n",
    "    X_ts.append(D_temp['comment_text'])\n",
    "    y_ts.append(D_temp['malignant'])\n",
    "    D_temp = Ds[i]\n",
    "    X_vs.append(D_temp['comment_text'])\n",
    "    y_vs.append(D_temp['malignant'])"
   ]
  },
  {
   "cell_type": "code",
   "execution_count": 12,
   "metadata": {
    "execution": {
     "iopub.execute_input": "2023-04-08T11:00:07.196775Z",
     "iopub.status.busy": "2023-04-08T11:00:07.195939Z",
     "iopub.status.idle": "2023-04-08T11:02:30.465031Z",
     "shell.execute_reply": "2023-04-08T11:02:30.463837Z",
     "shell.execute_reply.started": "2023-04-08T11:00:07.196726Z"
    },
    "trusted": true
   },
   "outputs": [],
   "source": [
    "for i in [0,1,2,3,4,5,6,7,8,9]:\n",
    "    X_t = X_ts[i]\n",
    "    X_t = X_t.fillna(\"_na_\").values\n",
    "    X_t = tokenizer.texts_to_sequences(X_t)\n",
    "    X_t = pad_sequences(X_t, maxlen=maxlen)\n",
    "    X_ts[i] = X_t\n",
    "    X_v = X_vs[i]\n",
    "    X_v = X_v.fillna(\"_na_\").values\n",
    "    X_v = tokenizer.texts_to_sequences(X_v)\n",
    "    X_v = pad_sequences(X_v, maxlen=maxlen)\n",
    "    X_vs[i] = X_v"
   ]
  },
  {
   "cell_type": "code",
   "execution_count": 13,
   "metadata": {
    "execution": {
     "iopub.execute_input": "2023-04-08T11:02:30.468026Z",
     "iopub.status.busy": "2023-04-08T11:02:30.467525Z",
     "iopub.status.idle": "2023-04-08T11:02:30.473744Z",
     "shell.execute_reply": "2023-04-08T11:02:30.472369Z",
     "shell.execute_reply.started": "2023-04-08T11:02:30.467963Z"
    },
    "trusted": true
   },
   "outputs": [],
   "source": [
    "scores = []"
   ]
  },
  {
   "cell_type": "code",
   "execution_count": 15,
   "metadata": {
    "execution": {
     "iopub.execute_input": "2023-04-08T11:02:58.638075Z",
     "iopub.status.busy": "2023-04-08T11:02:58.637242Z",
     "iopub.status.idle": "2023-04-08T11:28:22.359408Z",
     "shell.execute_reply": "2023-04-08T11:28:22.358113Z",
     "shell.execute_reply.started": "2023-04-08T11:02:58.638036Z"
    },
    "trusted": true
   },
   "outputs": [
    {
     "name": "stdout",
     "output_type": "stream",
     "text": [
      "Epoch 1/3\n",
      "1970/1970 [==============================] - 54s 23ms/step - loss: 0.1531 - accuracy: 0.9387\n",
      "Epoch 2/3\n",
      "1970/1970 [==============================] - 46s 23ms/step - loss: 0.0819 - accuracy: 0.9692\n",
      "Epoch 3/3\n",
      "1970/1970 [==============================] - 46s 23ms/step - loss: 0.0545 - accuracy: 0.9794\n",
      "62/62 [==============================] - 1s 11ms/step\n",
      "Epoch 1/3\n",
      "1970/1970 [==============================] - 50s 24ms/step - loss: 0.1580 - accuracy: 0.9380\n",
      "Epoch 2/3\n",
      "1970/1970 [==============================] - 46s 23ms/step - loss: 0.0855 - accuracy: 0.9684\n",
      "Epoch 3/3\n",
      "1970/1970 [==============================] - 46s 23ms/step - loss: 0.0567 - accuracy: 0.9789\n",
      "62/62 [==============================] - 1s 11ms/step\n",
      "Epoch 1/3\n",
      "1970/1970 [==============================] - 50s 24ms/step - loss: 0.1522 - accuracy: 0.9401\n",
      "Epoch 2/3\n",
      "1970/1970 [==============================] - 47s 24ms/step - loss: 0.0806 - accuracy: 0.9699\n",
      "Epoch 3/3\n",
      "1970/1970 [==============================] - 46s 23ms/step - loss: 0.0532 - accuracy: 0.9799\n",
      "62/62 [==============================] - 2s 10ms/step\n",
      "Epoch 1/3\n",
      "1978/1978 [==============================] - 50s 23ms/step - loss: 0.1598 - accuracy: 0.9365\n",
      "Epoch 2/3\n",
      "1978/1978 [==============================] - 46s 23ms/step - loss: 0.0866 - accuracy: 0.9677\n",
      "Epoch 3/3\n",
      "1978/1978 [==============================] - 47s 24ms/step - loss: 0.0573 - accuracy: 0.9786\n",
      "62/62 [==============================] - 1s 11ms/step\n",
      "Epoch 1/3\n",
      "1970/1970 [==============================] - 49s 23ms/step - loss: 0.1641 - accuracy: 0.9352\n",
      "Epoch 2/3\n",
      "1970/1970 [==============================] - 46s 23ms/step - loss: 0.0837 - accuracy: 0.9687\n",
      "Epoch 3/3\n",
      "1970/1970 [==============================] - 46s 23ms/step - loss: 0.0556 - accuracy: 0.9793\n",
      "62/62 [==============================] - 1s 10ms/step\n",
      "Epoch 1/3\n",
      "1970/1970 [==============================] - 50s 23ms/step - loss: 0.1496 - accuracy: 0.9408\n",
      "Epoch 2/3\n",
      "1970/1970 [==============================] - 46s 23ms/step - loss: 0.0807 - accuracy: 0.9698\n",
      "Epoch 3/3\n",
      "1970/1970 [==============================] - 46s 23ms/step - loss: 0.0523 - accuracy: 0.9803\n",
      "62/62 [==============================] - 1s 10ms/step\n",
      "Epoch 1/3\n",
      "1970/1970 [==============================] - 51s 23ms/step - loss: 0.1518 - accuracy: 0.9402\n",
      "Epoch 2/3\n",
      "1970/1970 [==============================] - 46s 23ms/step - loss: 0.0797 - accuracy: 0.9698\n",
      "Epoch 3/3\n",
      "1970/1970 [==============================] - 46s 23ms/step - loss: 0.0528 - accuracy: 0.9799\n",
      "62/62 [==============================] - 2s 10ms/step\n",
      "Epoch 1/3\n",
      "1970/1970 [==============================] - 49s 23ms/step - loss: 0.1528 - accuracy: 0.9401\n",
      "Epoch 2/3\n",
      "1970/1970 [==============================] - 46s 23ms/step - loss: 0.0815 - accuracy: 0.9701\n",
      "Epoch 3/3\n",
      "1970/1970 [==============================] - 46s 23ms/step - loss: 0.0535 - accuracy: 0.9801\n",
      "62/62 [==============================] - 1s 10ms/step\n",
      "Epoch 1/3\n",
      "1970/1970 [==============================] - 49s 23ms/step - loss: 0.1512 - accuracy: 0.9400\n",
      "Epoch 2/3\n",
      "1970/1970 [==============================] - 46s 23ms/step - loss: 0.0810 - accuracy: 0.9697\n",
      "Epoch 3/3\n",
      "1970/1970 [==============================] - 46s 23ms/step - loss: 0.0531 - accuracy: 0.9798\n",
      "62/62 [==============================] - 1s 11ms/step\n",
      "Epoch 1/3\n",
      "1970/1970 [==============================] - 49s 23ms/step - loss: 0.1523 - accuracy: 0.9399\n",
      "Epoch 2/3\n",
      "1970/1970 [==============================] - 46s 23ms/step - loss: 0.0815 - accuracy: 0.9700\n",
      "Epoch 3/3\n",
      "1970/1970 [==============================] - 46s 23ms/step - loss: 0.0550 - accuracy: 0.9796\n",
      "62/62 [==============================] - 1s 11ms/step\n"
     ]
    }
   ],
   "source": [
    "hp = {'embed_size': 256, \n",
    " 'op_lstm_size': 60, \n",
    " 'dropout_lstm': 0.010001815426642857, \n",
    " 'dropout': 0.4164505274315438, \n",
    " 'epochs': 3, \n",
    " 'batch_size': 128, \n",
    " 'attention': 0, \n",
    " 'attention_units': 32, \n",
    " 'bidirectional': 0}\n",
    "\n",
    "for i in [0,1,2,3,4,5,6,7,8,9]:\n",
    "    inp = Input(shape=(maxlen, ))\n",
    "    x = Embedding(max_features, hp['embed_size'])(inp)\n",
    "    x = Bidirectional(LSTM(hp['op_lstm_size'], return_sequences=True, dropout=hp['dropout_lstm'], recurrent_dropout=0))(x)\n",
    "    if hp['attention'] == 1:\n",
    "        x = Attention(units=hp['attention_units'])(x)\n",
    "    else:\n",
    "        x = GlobalMaxPool1D()(x)\n",
    "    x = Dense(50, activation='relu')(x)\n",
    "    x = Dropout(hp['dropout'])(x)\n",
    "    x = Dense(1, activation=\"sigmoid\")(x)\n",
    "    model = Model(inputs=inp, outputs=x)\n",
    "    model.compile(loss='binary_crossentropy', \n",
    "                  optimizer=optimizers.Adam(), \n",
    "                  metrics=['accuracy'])\n",
    "    \n",
    "    X_t = X_ts[i]\n",
    "    y_t = y_ts[i]\n",
    "    X_v = X_vs[i]\n",
    "    y_v = y_vs[i]\n",
    "    model.fit(X_t, y_t, epochs=3, batch_size=128)\n",
    "    y_pred = model.predict([X_v], batch_size=256, verbose=1)\n",
    "    score = []\n",
    "    for thresh in np.arange(0,1.01,0.05):\n",
    "        y_thresh = (y_pred > thresh).astype(int)\n",
    "        score.append(f1_score(y_v, y_thresh, average = 'macro'))\n",
    "    scores.append(score)"
   ]
  },
  {
   "cell_type": "code",
   "execution_count": 16,
   "metadata": {
    "execution": {
     "iopub.execute_input": "2023-04-08T11:28:22.361877Z",
     "iopub.status.busy": "2023-04-08T11:28:22.361572Z",
     "iopub.status.idle": "2023-04-08T11:28:22.373435Z",
     "shell.execute_reply": "2023-04-08T11:28:22.372386Z",
     "shell.execute_reply.started": "2023-04-08T11:28:22.361847Z"
    },
    "trusted": true
   },
   "outputs": [],
   "source": [
    "#pd.DataFrame(scores).to_csv(\"/kaggle/working/threshold_scores_augmented.csv\")"
   ]
  },
  {
   "cell_type": "code",
   "execution_count": 17,
   "metadata": {
    "execution": {
     "iopub.execute_input": "2023-04-08T11:37:24.348656Z",
     "iopub.status.busy": "2023-04-08T11:37:24.347647Z",
     "iopub.status.idle": "2023-04-08T11:37:24.360260Z",
     "shell.execute_reply": "2023-04-08T11:37:24.359133Z",
     "shell.execute_reply.started": "2023-04-08T11:37:24.348613Z"
    },
    "trusted": true
   },
   "outputs": [],
   "source": [
    "threshold_path = f'{path}threshold_scores_augmented.csv'\n",
    "threshold_scores = pd.read_csv(threshold_path)"
   ]
  },
  {
   "cell_type": "code",
   "execution_count": 18,
   "metadata": {
    "execution": {
     "iopub.execute_input": "2023-04-08T11:37:27.002007Z",
     "iopub.status.busy": "2023-04-08T11:37:27.001082Z",
     "iopub.status.idle": "2023-04-08T11:37:27.019647Z",
     "shell.execute_reply": "2023-04-08T11:37:27.018483Z",
     "shell.execute_reply.started": "2023-04-08T11:37:27.001936Z"
    },
    "trusted": true
   },
   "outputs": [],
   "source": [
    "scores = []\n",
    "for i in [0,1,2,3,4,5,6,7,8,9]:\n",
    "    score = np.array((threshold_scores[threshold_scores['Unnamed: 0']==i]))[0][1:22]\n",
    "    scores.append(score)"
   ]
  },
  {
   "cell_type": "code",
   "execution_count": 19,
   "metadata": {
    "execution": {
     "iopub.execute_input": "2023-04-08T11:37:31.007901Z",
     "iopub.status.busy": "2023-04-08T11:37:31.006860Z",
     "iopub.status.idle": "2023-04-08T11:37:31.016153Z",
     "shell.execute_reply": "2023-04-08T11:37:31.014655Z",
     "shell.execute_reply.started": "2023-04-08T11:37:31.007848Z"
    },
    "trusted": true
   },
   "outputs": [],
   "source": [
    "avg_score = (np.array(scores[0]) + np.array(scores[1]) + np.array(scores[2]) + np.array(scores[3]) + np.array(scores[4]) + np.array(scores[5]) + np.array(scores[6]) + np.array(scores[7]) + np.array(scores[8]) + np.array(scores[9]))/10\n",
    "best_threshold = np.arange(0,1.01,0.05)[avg_score == np.max(avg_score)][0]"
   ]
  },
  {
   "cell_type": "code",
   "execution_count": 20,
   "metadata": {
    "execution": {
     "iopub.execute_input": "2023-04-08T11:37:32.973410Z",
     "iopub.status.busy": "2023-04-08T11:37:32.972681Z",
     "iopub.status.idle": "2023-04-08T11:37:32.982948Z",
     "shell.execute_reply": "2023-04-08T11:37:32.981847Z",
     "shell.execute_reply.started": "2023-04-08T11:37:32.973372Z"
    },
    "trusted": true
   },
   "outputs": [
    {
     "data": {
      "text/plain": [
       "0.55"
      ]
     },
     "execution_count": 20,
     "metadata": {},
     "output_type": "execute_result"
    }
   ],
   "source": [
    "best_threshold"
   ]
  },
  {
   "cell_type": "code",
   "execution_count": 21,
   "metadata": {
    "execution": {
     "iopub.execute_input": "2023-04-08T11:37:34.916496Z",
     "iopub.status.busy": "2023-04-08T11:37:34.915785Z",
     "iopub.status.idle": "2023-04-08T11:37:35.228184Z",
     "shell.execute_reply": "2023-04-08T11:37:35.227205Z",
     "shell.execute_reply.started": "2023-04-08T11:37:34.916458Z"
    },
    "trusted": true
   },
   "outputs": [
    {
     "data": {
      "image/png": "[encoded data removed]",
      "text/plain": [
       "<Figure size 640x480 with 1 Axes>"
      ]
     },
     "metadata": {},
     "output_type": "display_data"
    }
   ],
   "source": [
    "## F1 Macro Scores by Threshold\n",
    "thresholds = np.arange(0,1.01,0.05)\n",
    "plt.plot(thresholds,scores[0], alpha=0.1)\n",
    "plt.plot(thresholds,scores[1], alpha=0.1)\n",
    "plt.plot(thresholds,scores[2], alpha=0.1)\n",
    "plt.plot(thresholds,scores[3], alpha=0.1)\n",
    "plt.plot(thresholds,scores[4], alpha=0.1)\n",
    "plt.plot(thresholds,scores[5], alpha=0.1)\n",
    "plt.plot(thresholds,scores[6], alpha=0.1)\n",
    "plt.plot(thresholds,scores[7], alpha=0.1)\n",
    "plt.plot(thresholds,scores[8], alpha=0.1)\n",
    "plt.plot(thresholds,scores[9], alpha=0.1)\n",
    "plt.plot(thresholds,avg_score)\n",
    "plt.title('F1 Score by Threshold Value by CV - Original')\n",
    "plt.ylabel('F1 Score')\n",
    "plt.xlabel('Threshold Values')\n",
    "plt.legend(['CV 1', 'CV 2','CV 3','CV 4', 'CV 5', 'CV 6', 'CV 7', 'CV 8', 'CV 9', 'CV 10', 'CV Avg'], loc='lower right')\n",
    "plt.show()"
   ]
  },
  {
   "cell_type": "code",
   "execution_count": 22,
   "metadata": {
    "execution": {
     "iopub.execute_input": "2023-04-08T11:37:39.036732Z",
     "iopub.status.busy": "2023-04-08T11:37:39.036063Z",
     "iopub.status.idle": "2023-04-08T11:37:39.045602Z",
     "shell.execute_reply": "2023-04-08T11:37:39.044405Z",
     "shell.execute_reply.started": "2023-04-08T11:37:39.036694Z"
    },
    "trusted": true
   },
   "outputs": [],
   "source": [
    "## LSTM CI from CV Results\n",
    "cv_f1_score_lstm = []\n",
    "for i in [0,1,2,3,4,5,6,7,8,9]:\n",
    "    f1_cv = scores[i][np.arange(0,1.01,0.05)==best_threshold]\n",
    "    cv_f1_score_lstm.append(f1_cv[0])\n",
    "lstm_mean = np.mean(cv_f1_score_lstm)\n",
    "lstm_std = np.std(cv_f1_score_lstm)\n",
    "lstm_ci = [lstm_mean - 3*lstm_std, lstm_mean + 3*lstm_std] ## Includes 99.7% numbers around est. mean."
   ]
  },
  {
   "cell_type": "code",
   "execution_count": 23,
   "metadata": {
    "execution": {
     "iopub.execute_input": "2023-04-08T11:37:42.382859Z",
     "iopub.status.busy": "2023-04-08T11:37:42.381912Z",
     "iopub.status.idle": "2023-04-08T11:37:42.390287Z",
     "shell.execute_reply": "2023-04-08T11:37:42.388969Z",
     "shell.execute_reply.started": "2023-04-08T11:37:42.382820Z"
    },
    "trusted": true
   },
   "outputs": [
    {
     "name": "stdout",
     "output_type": "stream",
     "text": [
      "Mean CV Score: 0.8331013335678428\n",
      "Standard Deviation CV Score: 0.008917927912817952\n"
     ]
    }
   ],
   "source": [
    "print(\"Mean CV Score: {}\".format(lstm_mean))\n",
    "print(\"Standard Deviation CV Score: {}\".format(lstm_std))"
   ]
  },
  {
   "cell_type": "code",
   "execution_count": 24,
   "metadata": {
    "execution": {
     "iopub.execute_input": "2023-04-08T11:37:50.422888Z",
     "iopub.status.busy": "2023-04-08T11:37:50.421848Z",
     "iopub.status.idle": "2023-04-08T11:37:50.430145Z",
     "shell.execute_reply": "2023-04-08T11:37:50.428791Z",
     "shell.execute_reply.started": "2023-04-08T11:37:50.422847Z"
    },
    "trusted": true
   },
   "outputs": [
    {
     "data": {
      "text/plain": [
       "[0.8063475498293889, 0.8598551173062966]"
      ]
     },
     "execution_count": 24,
     "metadata": {},
     "output_type": "execute_result"
    }
   ],
   "source": [
    "lstm_ci"
   ]
  },
  {
   "cell_type": "code",
   "execution_count": 25,
   "metadata": {
    "execution": {
     "iopub.execute_input": "2023-04-08T11:38:00.693173Z",
     "iopub.status.busy": "2023-04-08T11:38:00.692769Z",
     "iopub.status.idle": "2023-04-08T11:40:45.803555Z",
     "shell.execute_reply": "2023-04-08T11:40:45.802325Z",
     "shell.execute_reply.started": "2023-04-08T11:38:00.693135Z"
    },
    "trusted": true
   },
   "outputs": [
    {
     "name": "stdout",
     "output_type": "stream",
     "text": [
      "Epoch 1/3\n",
      "2198/2198 [==============================] - 56s 24ms/step - loss: 0.1276 - accuracy: 0.9513\n",
      "Epoch 2/3\n",
      "2198/2198 [==============================] - 51s 23ms/step - loss: 0.0715 - accuracy: 0.9733\n",
      "Epoch 3/3\n",
      "2198/2198 [==============================] - 52s 23ms/step - loss: 0.0495 - accuracy: 0.9811\n",
      "262/262 [==============================] - 3s 10ms/step\n",
      "[LSTM] F1 Macro score is 0.848138551643406\n",
      "[[58850  1579]\n",
      " [ 1960  4676]]\n",
      "              precision    recall  f1-score   support\n",
      "\n",
      "           0       0.97      0.97      0.97     60429\n",
      "           1       0.75      0.70      0.73      6636\n",
      "\n",
      "    accuracy                           0.95     67065\n",
      "   macro avg       0.86      0.84      0.85     67065\n",
      "weighted avg       0.95      0.95      0.95     67065\n",
      "\n"
     ]
    }
   ],
   "source": [
    "## Final Test on Test Data\n",
    "hp = {'embed_size': 256, \n",
    " 'op_lstm_size': 60, \n",
    " 'dropout_lstm': 0.010001815426642857, \n",
    " 'dropout': 0.4164505274315438, \n",
    " 'epochs': 3, \n",
    " 'batch_size': 128, \n",
    " 'attention': 0, \n",
    " 'attention_units': 32, \n",
    " 'bidirectional': 0}\n",
    "inp = Input(shape=(maxlen, ))\n",
    "x = Embedding(max_features, hp['embed_size'])(inp)\n",
    "x = Bidirectional(LSTM(hp['op_lstm_size'], return_sequences=True, dropout=hp['dropout_lstm'], recurrent_dropout=0))(x)\n",
    "if hp['attention'] == 1:\n",
    "    x = Attention(units=hp['attention_units'])(x)\n",
    "else:\n",
    "    x = GlobalMaxPool1D()(x)\n",
    "x = Dense(50, activation='relu')(x)\n",
    "x = Dropout(hp['dropout'])(x)\n",
    "x = Dense(1, activation=\"sigmoid\")(x)\n",
    "model = Model(inputs=inp, outputs=x)\n",
    "model.compile(loss='binary_crossentropy', \n",
    "                  optimizer=optimizers.Adam(), \n",
    "                  metrics=['accuracy'])\n",
    "model.fit(X_train, y_train, epochs=3, batch_size=128)\n",
    "y_pred = model.predict([X_test], batch_size=256, verbose=1)\n",
    "y_pred = (y_pred > best_threshold).astype(int)\n",
    "print('[LSTM] F1 Macro score is {}'.format(f1_score(y_test, y_pred, average = 'macro')))\n",
    "print(confusion_matrix(y_test,y_pred))\n",
    "print(classification_report(y_test,y_pred))"
   ]
  }
 ],
 "metadata": {
  "kernelspec": {
   "display_name": "Python 3",
   "language": "python",
   "name": "python3"
  },
  "language_info": {
   "codemirror_mode": {
    "name": "ipython",
    "version": 3
   },
   "file_extension": ".py",
   "mimetype": "text/x-python",
   "name": "python",
   "nbconvert_exporter": "python",
   "pygments_lexer": "ipython3",
   "version": "3.11.3"
  }
 },
 "nbformat": 4,
 "nbformat_minor": 4
}
