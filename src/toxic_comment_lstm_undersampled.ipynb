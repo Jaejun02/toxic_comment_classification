{
 "cells": [
  {
   "cell_type": "markdown",
   "metadata": {
    "id": "EEHoqPYRfPzm"
   },
   "source": [
    "# Importing Library"
   ]
  },
  {
   "cell_type": "code",
   "execution_count": null,
   "metadata": {
    "execution": {
     "iopub.execute_input": "2023-04-06T03:58:32.403409Z",
     "iopub.status.busy": "2023-04-06T03:58:32.402944Z",
     "iopub.status.idle": "2023-04-06T03:59:11.761110Z",
     "shell.execute_reply": "2023-04-06T03:59:11.759734Z",
     "shell.execute_reply.started": "2023-04-06T03:58:32.403364Z"
    },
    "executionInfo": {
     "elapsed": 17319,
     "status": "ok",
     "timestamp": 1680188243704,
     "user": {
      "displayName": "Jaejun Shim",
      "userId": "09455022591387484755"
     },
     "user_tz": -480
    },
    "id": "vdUTWQPYdJP2",
    "outputId": "1d144387-aed2-4084-e47d-3a77b58efea4",
    "trusted": true
   },
   "outputs": [],
   "source": [
    "## Import Libraries\n",
    "#! pip install optuna\n",
    "! pip install attention\n",
    "\n",
    "import numpy as np\n",
    "import pandas as pd\n",
    "import seaborn as sns\n",
    "import matplotlib.pyplot as plt\n",
    "import string\n",
    "\n",
    "from sklearn.model_selection import train_test_split\n",
    "\n",
    "from keras.preprocessing.text import Tokenizer\n",
    "from keras.utils import pad_sequences\n",
    "\n",
    "import logging\n",
    "import sys\n",
    "\n",
    "from keras.layers import Dense, Input, LSTM, Embedding, Dropout, Activation\n",
    "from keras.layers import Bidirectional, GlobalMaxPool1D\n",
    "from attention import Attention\n",
    "from keras.models import Model\n",
    "from keras import initializers, regularizers, constraints, optimizers, layers\n",
    "import optuna\n",
    "from sklearn.model_selection import StratifiedKFold\n",
    "\n",
    "from optuna.pruners import SuccessiveHalvingPruner\n",
    "from optuna.samplers import TPESampler\n",
    "\n",
    "from sklearn.metrics import f1_score,classification_report,confusion_matrix\n",
    "\n",
    "import warnings\n",
    "warnings.filterwarnings('ignore')\n",
    "\n",
    "random = 14"
   ]
  },
  {
   "cell_type": "markdown",
   "metadata": {},
   "source": [
    "# Import and Preprocess Datasets\n",
    "\n",
    "1. Read `train.csv` and `test.csv` and combine them into one dataset `D`.\n",
    "2. Force the target value into a binary value.\n",
    "3. Perform Exploratory Data Analysis.\n",
    "4. Perform text preprocessing: Lower Casing, Counting number of words etc.\n",
    "5. Perform Train-Test Split. Then perform undersampling on Train Data.\n",
    "6. Tokenizing and Padding Text Data."
   ]
  },
  {
   "cell_type": "code",
   "execution_count": 3,
   "metadata": {
    "execution": {
     "iopub.execute_input": "2023-04-06T03:59:11.764446Z",
     "iopub.status.busy": "2023-04-06T03:59:11.763811Z",
     "iopub.status.idle": "2023-04-06T03:59:11.771097Z",
     "shell.execute_reply": "2023-04-06T03:59:11.769036Z",
     "shell.execute_reply.started": "2023-04-06T03:59:11.764404Z"
    },
    "executionInfo": {
     "elapsed": 3,
     "status": "ok",
     "timestamp": 1680188245032,
     "user": {
      "displayName": "Jaejun Shim",
      "userId": "09455022591387484755"
     },
     "user_tz": -480
    },
    "id": "_A3Dm2IufL4G",
    "trusted": true
   },
   "outputs": [],
   "source": [
    "## Dataset Paths\n",
    "path = '/kaggle/input/cs3244-lstm/'\n",
    "train_path = f'{path}train.csv'\n",
    "test_path = f'{path}test.csv'\n",
    "test_labels_path = f'{path}test_labels.csv'"
   ]
  },
  {
   "cell_type": "code",
   "execution_count": 4,
   "metadata": {
    "execution": {
     "iopub.execute_input": "2023-04-06T03:59:11.775282Z",
     "iopub.status.busy": "2023-04-06T03:59:11.772614Z",
     "iopub.status.idle": "2023-04-06T03:59:15.551170Z",
     "shell.execute_reply": "2023-04-06T03:59:15.549569Z",
     "shell.execute_reply.started": "2023-04-06T03:59:11.775230Z"
    },
    "executionInfo": {
     "elapsed": 4357,
     "status": "ok",
     "timestamp": 1680188249386,
     "user": {
      "displayName": "Jaejun Shim",
      "userId": "09455022591387484755"
     },
     "user_tz": -480
    },
    "id": "YV_7UhD3fV0H",
    "outputId": "04e60acf-d321-4e04-9e82-24a7d4f8bfd4",
    "trusted": true
   },
   "outputs": [],
   "source": [
    "## Reading Datasets\n",
    "train = pd.read_csv(train_path)\n",
    "test = pd.read_csv(test_path)\n",
    "test_labels = pd.read_csv(test_labels_path)[['toxic', 'severe_toxic', 'obscene', 'threat', 'insult', 'identity_hate']]\n",
    "test = pd.concat([test, test_labels],axis=1)\n",
    "test = test.loc[test['toxic'] != -1]\n",
    "\n",
    "D = pd.concat([train, test], axis=0)"
   ]
  },
  {
   "cell_type": "markdown",
   "metadata": {
    "id": "6qGFV8CgfcbS"
   },
   "source": [
    "## Exploratory Data Analysis"
   ]
  },
  {
   "cell_type": "code",
   "execution_count": 46,
   "metadata": {
    "execution": {
     "iopub.execute_input": "2023-04-06T03:31:37.753647Z",
     "iopub.status.busy": "2023-04-06T03:31:37.753257Z",
     "iopub.status.idle": "2023-04-06T03:31:37.810612Z",
     "shell.execute_reply": "2023-04-06T03:31:37.808146Z",
     "shell.execute_reply.started": "2023-04-06T03:31:37.753610Z"
    },
    "executionInfo": {
     "elapsed": 1350,
     "status": "ok",
     "timestamp": 1680163406674,
     "user": {
      "displayName": "Jaejun Shim",
      "userId": "09455022591387484755"
     },
     "user_tz": -480
    },
    "id": "dDd076yNfb2j",
    "outputId": "75cfbaad-bbb0-4977-a471-ba867b7334dc",
    "trusted": true
   },
   "outputs": [
    {
     "name": "stdout",
     "output_type": "stream",
     "text": [
      "Number of Null Data: 0\n",
      "Number of Variables: \n",
      "8\n",
      "\n",
      "Number of Data Points: \n",
      "223549\n"
     ]
    },
    {
     "data": {
      "text/html": [
       "<div>\n",
       "<style scoped>\n",
       "    .dataframe tbody tr th:only-of-type {\n",
       "        vertical-align: middle;\n",
       "    }\n",
       "\n",
       "    .dataframe tbody tr th {\n",
       "        vertical-align: top;\n",
       "    }\n",
       "\n",
       "    .dataframe thead th {\n",
       "        text-align: right;\n",
       "    }\n",
       "</style>\n",
       "<table border=\"1\" class=\"dataframe\">\n",
       "  <thead>\n",
       "    <tr style=\"text-align: right;\">\n",
       "      <th></th>\n",
       "      <th>id</th>\n",
       "      <th>comment_text</th>\n",
       "      <th>toxic</th>\n",
       "      <th>severe_toxic</th>\n",
       "      <th>obscene</th>\n",
       "      <th>threat</th>\n",
       "      <th>insult</th>\n",
       "      <th>identity_hate</th>\n",
       "    </tr>\n",
       "  </thead>\n",
       "  <tbody>\n",
       "    <tr>\n",
       "      <th>0</th>\n",
       "      <td>0000997932d777bf</td>\n",
       "      <td>Explanation\\nWhy the edits made under my usern...</td>\n",
       "      <td>0</td>\n",
       "      <td>0</td>\n",
       "      <td>0</td>\n",
       "      <td>0</td>\n",
       "      <td>0</td>\n",
       "      <td>0</td>\n",
       "    </tr>\n",
       "    <tr>\n",
       "      <th>1</th>\n",
       "      <td>000103f0d9cfb60f</td>\n",
       "      <td>D'aww! He matches this background colour I'm s...</td>\n",
       "      <td>0</td>\n",
       "      <td>0</td>\n",
       "      <td>0</td>\n",
       "      <td>0</td>\n",
       "      <td>0</td>\n",
       "      <td>0</td>\n",
       "    </tr>\n",
       "    <tr>\n",
       "      <th>2</th>\n",
       "      <td>000113f07ec002fd</td>\n",
       "      <td>Hey man, I'm really not trying to edit war. It...</td>\n",
       "      <td>0</td>\n",
       "      <td>0</td>\n",
       "      <td>0</td>\n",
       "      <td>0</td>\n",
       "      <td>0</td>\n",
       "      <td>0</td>\n",
       "    </tr>\n",
       "    <tr>\n",
       "      <th>3</th>\n",
       "      <td>0001b41b1c6bb37e</td>\n",
       "      <td>\"\\nMore\\nI can't make any real suggestions on ...</td>\n",
       "      <td>0</td>\n",
       "      <td>0</td>\n",
       "      <td>0</td>\n",
       "      <td>0</td>\n",
       "      <td>0</td>\n",
       "      <td>0</td>\n",
       "    </tr>\n",
       "    <tr>\n",
       "      <th>4</th>\n",
       "      <td>0001d958c54c6e35</td>\n",
       "      <td>You, sir, are my hero. Any chance you remember...</td>\n",
       "      <td>0</td>\n",
       "      <td>0</td>\n",
       "      <td>0</td>\n",
       "      <td>0</td>\n",
       "      <td>0</td>\n",
       "      <td>0</td>\n",
       "    </tr>\n",
       "  </tbody>\n",
       "</table>\n",
       "</div>"
      ],
      "text/plain": [
       "                 id                                       comment_text  toxic  \\\n",
       "0  0000997932d777bf  Explanation\\nWhy the edits made under my usern...      0   \n",
       "1  000103f0d9cfb60f  D'aww! He matches this background colour I'm s...      0   \n",
       "2  000113f07ec002fd  Hey man, I'm really not trying to edit war. It...      0   \n",
       "3  0001b41b1c6bb37e  \"\\nMore\\nI can't make any real suggestions on ...      0   \n",
       "4  0001d958c54c6e35  You, sir, are my hero. Any chance you remember...      0   \n",
       "\n",
       "   severe_toxic  obscene  threat  insult  identity_hate  \n",
       "0             0        0       0       0              0  \n",
       "1             0        0       0       0              0  \n",
       "2             0        0       0       0              0  \n",
       "3             0        0       0       0              0  \n",
       "4             0        0       0       0              0  "
      ]
     },
     "execution_count": 46,
     "metadata": {},
     "output_type": "execute_result"
    }
   ],
   "source": [
    "## Checking Null Entries\n",
    "print(\"Number of Null Data: \" + str(D.isnull().sum().sum()))\n",
    "\n",
    "## Checking Dimensions\n",
    "print(\"Number of Variables: \")\n",
    "print(D.shape[1])\n",
    "print(\"\\nNumber of Data Points: \")\n",
    "print(D.shape[0])\n",
    "\n",
    "## Structure of the Dataset\n",
    "D.head()"
   ]
  },
  {
   "cell_type": "markdown",
   "metadata": {},
   "source": [
    "## Forcing Target Variable to Binary"
   ]
  },
  {
   "cell_type": "code",
   "execution_count": 47,
   "metadata": {
    "execution": {
     "iopub.execute_input": "2023-04-06T03:31:37.813497Z",
     "iopub.status.busy": "2023-04-06T03:31:37.811948Z",
     "iopub.status.idle": "2023-04-06T03:31:37.871977Z",
     "shell.execute_reply": "2023-04-06T03:31:37.870838Z",
     "shell.execute_reply.started": "2023-04-06T03:31:37.813457Z"
    },
    "executionInfo": {
     "elapsed": 1240,
     "status": "ok",
     "timestamp": 1680163441057,
     "user": {
      "displayName": "Jaejun Shim",
      "userId": "09455022591387484755"
     },
     "user_tz": -480
    },
    "id": "MMBS9NzdiwIW",
    "outputId": "13ed2413-8c17-4435-a24f-f1580d3f6ac6",
    "trusted": true
   },
   "outputs": [
    {
     "data": {
      "text/html": [
       "<div>\n",
       "<style scoped>\n",
       "    .dataframe tbody tr th:only-of-type {\n",
       "        vertical-align: middle;\n",
       "    }\n",
       "\n",
       "    .dataframe tbody tr th {\n",
       "        vertical-align: top;\n",
       "    }\n",
       "\n",
       "    .dataframe thead th {\n",
       "        text-align: right;\n",
       "    }\n",
       "</style>\n",
       "<table border=\"1\" class=\"dataframe\">\n",
       "  <thead>\n",
       "    <tr style=\"text-align: right;\">\n",
       "      <th></th>\n",
       "      <th>var_count</th>\n",
       "      <th>toxic</th>\n",
       "      <th>severe_toxic</th>\n",
       "      <th>obscene</th>\n",
       "      <th>threat</th>\n",
       "      <th>insult</th>\n",
       "      <th>identity_hate</th>\n",
       "    </tr>\n",
       "  </thead>\n",
       "  <tbody>\n",
       "    <tr>\n",
       "      <th>0</th>\n",
       "      <td>toxic</td>\n",
       "      <td>21384</td>\n",
       "      <td>1962</td>\n",
       "      <td>11552</td>\n",
       "      <td>654</td>\n",
       "      <td>10686</td>\n",
       "      <td>1995</td>\n",
       "    </tr>\n",
       "    <tr>\n",
       "      <th>1</th>\n",
       "      <td>severe_toxic</td>\n",
       "      <td>1962</td>\n",
       "      <td>1962</td>\n",
       "      <td>1880</td>\n",
       "      <td>158</td>\n",
       "      <td>1701</td>\n",
       "      <td>448</td>\n",
       "    </tr>\n",
       "    <tr>\n",
       "      <th>2</th>\n",
       "      <td>obscene</td>\n",
       "      <td>11552</td>\n",
       "      <td>1880</td>\n",
       "      <td>12140</td>\n",
       "      <td>439</td>\n",
       "      <td>8884</td>\n",
       "      <td>1570</td>\n",
       "    </tr>\n",
       "    <tr>\n",
       "      <th>3</th>\n",
       "      <td>threat</td>\n",
       "      <td>654</td>\n",
       "      <td>158</td>\n",
       "      <td>439</td>\n",
       "      <td>689</td>\n",
       "      <td>445</td>\n",
       "      <td>145</td>\n",
       "    </tr>\n",
       "    <tr>\n",
       "      <th>4</th>\n",
       "      <td>insult</td>\n",
       "      <td>10686</td>\n",
       "      <td>1701</td>\n",
       "      <td>8884</td>\n",
       "      <td>445</td>\n",
       "      <td>11304</td>\n",
       "      <td>1762</td>\n",
       "    </tr>\n",
       "    <tr>\n",
       "      <th>5</th>\n",
       "      <td>identity_hate</td>\n",
       "      <td>1995</td>\n",
       "      <td>448</td>\n",
       "      <td>1570</td>\n",
       "      <td>145</td>\n",
       "      <td>1762</td>\n",
       "      <td>2117</td>\n",
       "    </tr>\n",
       "  </tbody>\n",
       "</table>\n",
       "</div>"
      ],
      "text/plain": [
       "       var_count  toxic  severe_toxic  obscene  threat  insult  identity_hate\n",
       "0          toxic  21384          1962    11552     654   10686           1995\n",
       "1   severe_toxic   1962          1962     1880     158    1701            448\n",
       "2        obscene  11552          1880    12140     439    8884           1570\n",
       "3         threat    654           158      439     689     445            145\n",
       "4         insult  10686          1701     8884     445   11304           1762\n",
       "5  identity_hate   1995           448     1570     145    1762           2117"
      ]
     },
     "execution_count": 47,
     "metadata": {},
     "output_type": "execute_result"
    }
   ],
   "source": [
    "## Checks for Creating New Dependent Variable\n",
    "def analyze_var(df, col_list):\n",
    "    col_list_v = col_list[1:]\n",
    "    res = pd.DataFrame(col_list_v)\n",
    "    for dv in col_list_v:\n",
    "        count = []\n",
    "        D_dv = D.loc[D[dv]==1]\n",
    "        for dv2 in col_list_v:\n",
    "            D_dv_dv2 = D_dv.loc[D_dv[dv2]==1]\n",
    "            count.append(D_dv_dv2.shape[0])\n",
    "        res = pd.concat([res,pd.DataFrame(count)],axis=1)\n",
    "    res.columns = col_list\n",
    "    return res\n",
    "\n",
    "analyze_var(D, ['var_count','toxic', 'severe_toxic', 'obscene', 'threat', 'insult', 'identity_hate'])"
   ]
  },
  {
   "cell_type": "code",
   "execution_count": 5,
   "metadata": {
    "execution": {
     "iopub.execute_input": "2023-04-06T03:59:15.554263Z",
     "iopub.status.busy": "2023-04-06T03:59:15.553817Z",
     "iopub.status.idle": "2023-04-06T03:59:15.729160Z",
     "shell.execute_reply": "2023-04-06T03:59:15.727804Z",
     "shell.execute_reply.started": "2023-04-06T03:59:15.554219Z"
    },
    "executionInfo": {
     "elapsed": 11,
     "status": "ok",
     "timestamp": 1680188249387,
     "user": {
      "displayName": "Jaejun Shim",
      "userId": "09455022591387484755"
     },
     "user_tz": -480
    },
    "id": "qEEdvfy3i61e",
    "outputId": "b1335fa7-0e95-41a4-ba8e-0940b3812bbc",
    "trusted": true
   },
   "outputs": [
    {
     "data": {
      "text/html": [
       "<div>\n",
       "<style scoped>\n",
       "    .dataframe tbody tr th:only-of-type {\n",
       "        vertical-align: middle;\n",
       "    }\n",
       "\n",
       "    .dataframe tbody tr th {\n",
       "        vertical-align: top;\n",
       "    }\n",
       "\n",
       "    .dataframe thead th {\n",
       "        text-align: right;\n",
       "    }\n",
       "</style>\n",
       "<table border=\"1\" class=\"dataframe\">\n",
       "  <thead>\n",
       "    <tr style=\"text-align: right;\">\n",
       "      <th></th>\n",
       "      <th>id</th>\n",
       "      <th>comment_text</th>\n",
       "      <th>malignant</th>\n",
       "    </tr>\n",
       "  </thead>\n",
       "  <tbody>\n",
       "    <tr>\n",
       "      <th>0</th>\n",
       "      <td>0000997932d777bf</td>\n",
       "      <td>Explanation\\nWhy the edits made under my usern...</td>\n",
       "      <td>0</td>\n",
       "    </tr>\n",
       "    <tr>\n",
       "      <th>1</th>\n",
       "      <td>000103f0d9cfb60f</td>\n",
       "      <td>D'aww! He matches this background colour I'm s...</td>\n",
       "      <td>0</td>\n",
       "    </tr>\n",
       "    <tr>\n",
       "      <th>2</th>\n",
       "      <td>000113f07ec002fd</td>\n",
       "      <td>Hey man, I'm really not trying to edit war. It...</td>\n",
       "      <td>0</td>\n",
       "    </tr>\n",
       "    <tr>\n",
       "      <th>3</th>\n",
       "      <td>0001b41b1c6bb37e</td>\n",
       "      <td>\"\\nMore\\nI can't make any real suggestions on ...</td>\n",
       "      <td>0</td>\n",
       "    </tr>\n",
       "    <tr>\n",
       "      <th>4</th>\n",
       "      <td>0001d958c54c6e35</td>\n",
       "      <td>You, sir, are my hero. Any chance you remember...</td>\n",
       "      <td>0</td>\n",
       "    </tr>\n",
       "  </tbody>\n",
       "</table>\n",
       "</div>"
      ],
      "text/plain": [
       "                 id                                       comment_text  \\\n",
       "0  0000997932d777bf  Explanation\\nWhy the edits made under my usern...   \n",
       "1  000103f0d9cfb60f  D'aww! He matches this background colour I'm s...   \n",
       "2  000113f07ec002fd  Hey man, I'm really not trying to edit war. It...   \n",
       "3  0001b41b1c6bb37e  \"\\nMore\\nI can't make any real suggestions on ...   \n",
       "4  0001d958c54c6e35  You, sir, are my hero. Any chance you remember...   \n",
       "\n",
       "   malignant  \n",
       "0          0  \n",
       "1          0  \n",
       "2          0  \n",
       "3          0  \n",
       "4          0  "
      ]
     },
     "execution_count": 5,
     "metadata": {},
     "output_type": "execute_result"
    }
   ],
   "source": [
    "## Create New Dependent Variable - Malignant\n",
    "def force_one(x):\n",
    "    if x > 1:\n",
    "        return 1\n",
    "    else:\n",
    "        return x\n",
    "\n",
    "D['malignant'] = D['toxic'] + D['obscene'] + D['threat'] + D['insult'] + D['identity_hate']\n",
    "D['malignant'] = D['malignant'].apply(lambda x: force_one(x))\n",
    "D = D[['id','comment_text','malignant']]\n",
    "\n",
    "D.head()"
   ]
  },
  {
   "cell_type": "code",
   "execution_count": 49,
   "metadata": {
    "execution": {
     "iopub.execute_input": "2023-04-06T03:31:38.003352Z",
     "iopub.status.busy": "2023-04-06T03:31:38.002953Z",
     "iopub.status.idle": "2023-04-06T03:31:38.318297Z",
     "shell.execute_reply": "2023-04-06T03:31:38.317287Z",
     "shell.execute_reply.started": "2023-04-06T03:31:38.003313Z"
    },
    "executionInfo": {
     "elapsed": 1048,
     "status": "ok",
     "timestamp": 1680163532433,
     "user": {
      "displayName": "Jaejun Shim",
      "userId": "09455022591387484755"
     },
     "user_tz": -480
    },
    "id": "3BenLBhWjHzP",
    "outputId": "3482a758-db61-4a5b-bd51-cdecea1d4ddf",
    "trusted": true
   },
   "outputs": [
    {
     "name": "stdout",
     "output_type": "stream",
     "text": [
      "Number of Non-Malignant Comments: 201081\n",
      "Number of Malignant Comments: 22468\n"
     ]
    },
    {
     "data": {
      "image/png": "[encoded data removed]",
      "text/plain": [
       "<Figure size 640x480 with 1 Axes>"
      ]
     },
     "metadata": {},
     "output_type": "display_data"
    }
   ],
   "source": [
    "## Distribution of Dependent Variable - Malignant\n",
    "sns.countplot(data = D, x= 'malignant')\n",
    "print(\"Number of Non-Malignant Comments: {0}\".format(sum(D['malignant'] == 0)))\n",
    "print(\"Number of Malignant Comments: {0}\".format(sum(D['malignant'] == 1)))"
   ]
  },
  {
   "cell_type": "markdown",
   "metadata": {
    "id": "WvOkqSb1jTH-"
   },
   "source": [
    "## Preprocessing and Feature Extraction"
   ]
  },
  {
   "cell_type": "markdown",
   "metadata": {
    "id": "TwSDIcerjYD5"
   },
   "source": [
    "Puncuations that are found to express emotions in chats are counted separately once again. Those punctuations are chosen from the sources below:\n",
    "\n",
    "1. \"The interactional principle in digital punctuation\": https://www.sciencedirect.com/science/article/pii/S2211695821000180\n",
    "2. \"Punctuation is the New Measure of Emotion\": https://ericadhawan.medium.com/punctuation-is-the-new-measure-of-emotion-329b684743f0"
   ]
  },
  {
   "cell_type": "code",
   "execution_count": 6,
   "metadata": {
    "execution": {
     "iopub.execute_input": "2023-04-06T03:59:15.731991Z",
     "iopub.status.busy": "2023-04-06T03:59:15.730893Z",
     "iopub.status.idle": "2023-04-06T03:59:41.876140Z",
     "shell.execute_reply": "2023-04-06T03:59:41.875053Z",
     "shell.execute_reply.started": "2023-04-06T03:59:15.731930Z"
    },
    "executionInfo": {
     "elapsed": 59873,
     "status": "ok",
     "timestamp": 1680188309251,
     "user": {
      "displayName": "Jaejun Shim",
      "userId": "09455022591387484755"
     },
     "user_tz": -480
    },
    "id": "YEZyEWg0jR1c",
    "trusted": true
   },
   "outputs": [],
   "source": [
    "## Text Pre-Processing - D\n",
    "\n",
    "#### Make Strings to Lower Case\n",
    "D['comment_text'] = D['comment_text'].str.lower()\n",
    "\n",
    "#### Keep Track of String's Original Length\n",
    "D['length'] = D['comment_text'].str.len()\n",
    "\n",
    "#### Replace Email Address with 'email'\n",
    "D['comment_text'] = D['comment_text'].str.replace(r'^.+@[^\\.].*\\.[a-z]{2,}$','email')\n",
    "\n",
    "#### Replace Website Address with 'website'\n",
    "D['comment_text'] = D['comment_text'].str.replace(r'^http[s]{0,1}\\://[a-zA-Z0-9\\-\\.]+\\.[a-zA-Z]{2,3}(/\\S*)?$','website')\n",
    "\n",
    "#### Replace Website Address with 'phonenumber'\n",
    "D['comment_text'] = D['comment_text'].str.replace(r'^\\(?[\\d]{3}\\)?[\\s-]?[\\d]{3}[\\s-]?[\\d]{4}$','phonenumber') # Note, might contain a random 10 digit number.\n",
    "\n",
    "#### Replace Numbers with 'numbrs'\n",
    "D['comment_text'] = D['comment_text'].str.replace(r'\\d+(\\.\\d+)?', 'numbr')\n",
    "\n",
    "#### Special Punctuations are Replaced Explicitly.\n",
    "D['comment_text'] = D['comment_text'].str.replace(r'!',' exclamationmark')\n",
    "D['comment_text'] = D['comment_text'].str.replace(r'\\?',' questionmark')\n",
    "D['comment_text'] = D['comment_text'].str.replace(r'\\.{1}',' periodmark')\n",
    "D['comment_text'] = D['comment_text'].str.replace(r'\\.{2,}',' ellipsismark')\n",
    "D['comment_text'] = D['comment_text'].str.replace(r'£|\\$', ' dollers')\n",
    "\n",
    "## Removing Leftover Punctuations\n",
    "def remove_punct(text):\n",
    "    p_free=\"\".join([i for i in text if i not in string.punctuation])\n",
    "    return p_free\n",
    "D['comment_text'] = D['comment_text'].apply(lambda x:remove_punct(x))"
   ]
  },
  {
   "cell_type": "code",
   "execution_count": 7,
   "metadata": {
    "execution": {
     "iopub.execute_input": "2023-04-06T03:59:41.879308Z",
     "iopub.status.busy": "2023-04-06T03:59:41.878086Z",
     "iopub.status.idle": "2023-04-06T03:59:41.934494Z",
     "shell.execute_reply": "2023-04-06T03:59:41.933034Z",
     "shell.execute_reply.started": "2023-04-06T03:59:41.879249Z"
    },
    "trusted": true
   },
   "outputs": [],
   "source": [
    "## Train-Test Split\n",
    "X = D['comment_text']\n",
    "y = D['malignant']\n",
    "X_train, X_test, y_train, y_test = train_test_split(X, y, test_size=0.3, random_state=random)"
   ]
  },
  {
   "cell_type": "code",
   "execution_count": 8,
   "metadata": {
    "execution": {
     "iopub.execute_input": "2023-04-06T03:59:44.829408Z",
     "iopub.status.busy": "2023-04-06T03:59:44.828946Z",
     "iopub.status.idle": "2023-04-06T03:59:44.906254Z",
     "shell.execute_reply": "2023-04-06T03:59:44.904809Z",
     "shell.execute_reply.started": "2023-04-06T03:59:44.829362Z"
    },
    "executionInfo": {
     "elapsed": 33114,
     "status": "ok",
     "timestamp": 1680188342362,
     "user": {
      "displayName": "Jaejun Shim",
      "userId": "09455022591387484755"
     },
     "user_tz": -480
    },
    "id": "OoLUAf6Xj9DT",
    "trusted": true
   },
   "outputs": [],
   "source": [
    "## Random Undersampling\n",
    "nonmalig = X_train[y_train == 0]\n",
    "nonmalig_y = y_train[y_train == 0]\n",
    "num_nonmalig = len(nonmalig)\n",
    "malig = X_train[y_train == 1]\n",
    "malig_y = y_train[y_train == 1]\n",
    "num_malig = len(malig)\n",
    "\n",
    "#chosen_idx = np.random.choice(num_nonmalig,replace=False,size=num_malig)\n",
    "chosen_idx_path = f'{path}chosen_idx.csv'\n",
    "chosen_idx = pd.read_csv(chosen_idx_path)\n",
    "chosen_idx = np.array(chosen_idx['0'])\n",
    "chosen_nonmalig = nonmalig.iloc[chosen_idx]\n",
    "chosen_nonmalig_y = np.array(y_train)[chosen_idx]\n",
    "\n",
    "X_train_un = pd.concat([chosen_nonmalig, malig],axis=0)\n",
    "y_train_un = np.concatenate((chosen_nonmalig_y, malig_y), axis=None)\n",
    "\n",
    "undersampled_num = len(y_train_un)\n",
    "\n",
    "#mix_idx = np.random.choice(undersampled_num,replace=False,size=undersampled_num)\n",
    "mix_idx_path = f'{path}mix_idx.csv'\n",
    "mix_idx = pd.read_csv(mix_idx_path)\n",
    "mix_idx = np.array(mix_idx['0'])\n",
    "\n",
    "X_train_un = X_train_un.iloc[mix_idx]\n",
    "y_train_un = y_train_un[mix_idx]"
   ]
  },
  {
   "cell_type": "code",
   "execution_count": 9,
   "metadata": {
    "execution": {
     "iopub.execute_input": "2023-04-06T03:59:48.531082Z",
     "iopub.status.busy": "2023-04-06T03:59:48.530642Z",
     "iopub.status.idle": "2023-04-06T03:59:56.854433Z",
     "shell.execute_reply": "2023-04-06T03:59:56.852783Z",
     "shell.execute_reply.started": "2023-04-06T03:59:48.531042Z"
    },
    "trusted": true
   },
   "outputs": [],
   "source": [
    "## Tokenizing Strings\n",
    "train_text = X_train_un.fillna(\"_na_\").values\n",
    "test_text = X_test.fillna(\"_na_\").values\n",
    "\n",
    "max_features = 20000\n",
    "\n",
    "tokenizer = Tokenizer(num_words=max_features)\n",
    "tokenizer.fit_on_texts(list(train_text))\n",
    "tokenized_train = tokenizer.texts_to_sequences(train_text)\n",
    "tokenized_test = tokenizer.texts_to_sequences(test_text)"
   ]
  },
  {
   "cell_type": "code",
   "execution_count": 49,
   "metadata": {
    "execution": {
     "iopub.execute_input": "2023-04-06T02:57:17.084092Z",
     "iopub.status.busy": "2023-04-06T02:57:17.083495Z",
     "iopub.status.idle": "2023-04-06T02:57:17.568731Z",
     "shell.execute_reply": "2023-04-06T02:57:17.565623Z",
     "shell.execute_reply.started": "2023-04-06T02:57:17.084040Z"
    },
    "executionInfo": {
     "elapsed": 1872,
     "status": "ok",
     "timestamp": 1680166452554,
     "user": {
      "displayName": "Jaejun Shim",
      "userId": "09455022591387484755"
     },
     "user_tz": -480
    },
    "id": "-hWrynfQnwx9",
    "outputId": "b0d540e3-22f2-40e1-b66c-88b63050d11c",
    "trusted": true
   },
   "outputs": [
    {
     "data": {
      "image/png": "[encoded data removed]",
      "text/plain": [
       "<Figure size 640x480 with 1 Axes>"
      ]
     },
     "metadata": {},
     "output_type": "display_data"
    }
   ],
   "source": [
    "## Distribution of Number of Words.\n",
    "totalNumWords = [len(text) for text in tokenized_train]\n",
    "plt.hist(totalNumWords,bins = np.arange(0,410,10))\n",
    "plt.show()"
   ]
  },
  {
   "cell_type": "code",
   "execution_count": 10,
   "metadata": {
    "execution": {
     "iopub.execute_input": "2023-04-06T03:59:56.857437Z",
     "iopub.status.busy": "2023-04-06T03:59:56.856900Z",
     "iopub.status.idle": "2023-04-06T03:59:57.468180Z",
     "shell.execute_reply": "2023-04-06T03:59:57.466875Z",
     "shell.execute_reply.started": "2023-04-06T03:59:56.857372Z"
    },
    "executionInfo": {
     "elapsed": 2208,
     "status": "ok",
     "timestamp": 1680188344562,
     "user": {
      "displayName": "Jaejun Shim",
      "userId": "09455022591387484755"
     },
     "user_tz": -480
    },
    "id": "ifZWXuwhn0w1",
    "trusted": true
   },
   "outputs": [],
   "source": [
    "## Pad the Tokenized List - Evening Length\n",
    "maxlen = 150\n",
    "X_train_un = pad_sequences(tokenized_train, maxlen=maxlen)\n",
    "X_test = pad_sequences(tokenized_test, maxlen=maxlen)"
   ]
  },
  {
   "cell_type": "markdown",
   "metadata": {},
   "source": [
    "## Building and Training Model - LSTM on Undersampled Data"
   ]
  },
  {
   "cell_type": "code",
   "execution_count": 11,
   "metadata": {
    "execution": {
     "iopub.execute_input": "2023-04-06T03:00:32.324267Z",
     "iopub.status.busy": "2023-04-06T03:00:32.323835Z",
     "iopub.status.idle": "2023-04-06T03:00:32.351288Z",
     "shell.execute_reply": "2023-04-06T03:00:32.350228Z",
     "shell.execute_reply.started": "2023-04-06T03:00:32.324208Z"
    },
    "executionInfo": {
     "elapsed": 8,
     "status": "ok",
     "timestamp": 1680188344563,
     "user": {
      "displayName": "Jaejun Shim",
      "userId": "09455022591387484755"
     },
     "user_tz": -480
    },
    "id": "RiKa9Z7tn817",
    "trusted": true
   },
   "outputs": [],
   "source": [
    "def build_lstm(hp, maxlen, max_features, X, y):\n",
    "    inp = Input(shape=(maxlen, ))\n",
    "    x = Embedding(max_features, hp['embed_size'])(inp)\n",
    "    x = Bidirectional(LSTM(hp['op_lstm_size'], return_sequences=True, dropout=hp['dropout_lstm'], recurrent_dropout=0))(x)\n",
    "    if hp['attention'] == 1:\n",
    "        x = Attention(units=hp['attention_units'])(x)\n",
    "    else:\n",
    "        x = GlobalMaxPool1D()(x)\n",
    "    x = Dense(50, activation='relu')(x)\n",
    "    x = Dropout(hp['dropout'])(x)\n",
    "    x = Dense(1, activation=\"sigmoid\")(x)\n",
    "    model = Model(inputs=inp, outputs=x)\n",
    "    model.compile(loss='binary_crossentropy', \n",
    "                  optimizer=optimizers.Adam(), \n",
    "                  metrics=['accuracy'])\n",
    "    X_t, X_v, y_t, y_v = train_test_split(X, y, test_size=0.5, random_state=random)\n",
    "    model.fit(X_t, y_t, epochs=hp['epochs'], batch_size=hp['batch_size'])\n",
    "    y_pred = model.predict([X_v], batch_size=256, verbose=1)\n",
    "    y_pred = (y_pred > 0.5).astype(int)\n",
    "    score = f1_score(y_v, y_pred, average = 'macro')\n",
    "    return model, score#np.mean(scores)\n",
    "\n",
    "def build_lstm_cv(hp, maxlen, max_features, X, y, cv):\n",
    "    scores = []\n",
    "    skf = StratifiedKFold(n_splits=cv)\n",
    "    for i, (train_index, test_index) in enumerate(skf.split(X,y)):\n",
    "        inp = Input(shape=(maxlen, ))\n",
    "        x = Embedding(max_features, hp['embed_size'])(inp)\n",
    "        if hp['bidirectional'] == 1:\n",
    "            x = Bidirectional(LSTM(hp['op_lstm_size'], return_sequences=True, dropout=hp['dropout_lstm'], recurrent_dropout=0))(x)\n",
    "        else:\n",
    "            x = LSTM(hp['op_lstm_size'], return_sequences=True, dropout=hp['dropout_lstm'], recurrent_dropout=0)(x)\n",
    "        if hp['attention'] == 1:\n",
    "            x = Attention(units=hp['attention_units'])(x)\n",
    "        else:\n",
    "            x = GlobalMaxPool1D()(x)\n",
    "        x = Dense(50, activation='relu')(x)\n",
    "        x = Dropout(hp['dropout'])(x)\n",
    "        x = Dense(1, activation=\"sigmoid\")(x)\n",
    "        model = Model(inputs=inp, outputs=x)\n",
    "        model.compile(loss='binary_crossentropy', \n",
    "                      optimizer=optimizers.Adam(), \n",
    "                      metrics=['accuracy'])\n",
    "        X_train = X[train_index]\n",
    "        y_train = y[train_index]\n",
    "        X_test = X[test_index]\n",
    "        y_true = y[test_index]\n",
    "        model.fit(X_train, y_train, epochs=hp['epochs'], batch_size=hp['batch_size'])\n",
    "        gc.collect()\n",
    "        y_pred = model.predict([X_test], batch_size=256, verbose=1)\n",
    "        y_pred = (y_pred > 0.5).astype(int)\n",
    "        scores.append(f1_score(y_true, y_pred, average = 'macro'))\n",
    "        gc.collect()\n",
    "        # You can add something here if you want to keep track of cv scores independently.\n",
    "    return model, np.mean(scores)\n",
    "        \n",
    "def objective(trial, maxlen, max_features, X, y, cv, apply_cv = False):\n",
    "    hp = {\n",
    "        'embed_size': trial.suggest_int('embed_size', 64, 256, step = 64),\n",
    "        'op_lstm_size': trial.suggest_int('op_lstm_size', 50, 60),\n",
    "        'dropout_lstm': trial.suggest_float('dropout_lstm', 0, 0.5),\n",
    "        'dropout': trial.suggest_float('dropout', 0, 0.5),\n",
    "        'epochs': trial.suggest_int('epochs', 2, 5),\n",
    "        'batch_size': trial.suggest_categorical('batch_size', [128,256,512,1024]),\n",
    "        'attention': trial.suggest_categorical('attention', [0,1]),\n",
    "        'attention_units': trial.suggest_categorical('attention_units', [16,32,64]),\n",
    "        'bidirectional': trial.suggest_categorical('bidirectional', [0,1])\n",
    "    }\n",
    "    \n",
    "    model, f1macro = build_lstm(hp, maxlen, max_features, X, y)\n",
    "\n",
    "    return f1macro"
   ]
  },
  {
   "cell_type": "code",
   "execution_count": 12,
   "metadata": {
    "execution": {
     "iopub.execute_input": "2023-04-06T03:00:32.353526Z",
     "iopub.status.busy": "2023-04-06T03:00:32.352653Z",
     "iopub.status.idle": "2023-04-06T03:00:32.362289Z",
     "shell.execute_reply": "2023-04-06T03:00:32.361193Z",
     "shell.execute_reply.started": "2023-04-06T03:00:32.353486Z"
    },
    "executionInfo": {
     "elapsed": 2,
     "status": "ok",
     "timestamp": 1680188478071,
     "user": {
      "displayName": "Jaejun Shim",
      "userId": "09455022591387484755"
     },
     "user_tz": -480
    },
    "id": "n6S07RKxxLa7",
    "trusted": true
   },
   "outputs": [],
   "source": [
    "#optuna.logging.get_logger(\"optuna\").addHandler(logging.StreamHandler(sys.stdout))\n",
    "#study_name = \"cs3244-lstm-study-f1_macro-undersampling\" \n",
    "#storage_name = \"sqlite:///{}.db\".format(study_name)"
   ]
  },
  {
   "cell_type": "code",
   "execution_count": null,
   "metadata": {
    "id": "CiI4hx4Qv0cz",
    "trusted": true
   },
   "outputs": [],
   "source": [
    "#cv = 5\n",
    "#study = optuna.create_study(direction=\"maximize\", sampler=TPESampler(), pruner=SuccessiveHalvingPruner(),\n",
    "#                            study_name=study_name, storage=storage_name, load_if_exists=True)\n",
    "#func = lambda trial: objective(trial, maxlen, max_features, X_train_un, y_train_un, cv, apply_cv = False)\n",
    "#study.optimize(func, n_trials=50, gc_after_trial=True)"
   ]
  },
  {
   "cell_type": "code",
   "execution_count": 30,
   "metadata": {
    "execution": {
     "iopub.execute_input": "2023-04-06T03:26:38.308002Z",
     "iopub.status.busy": "2023-04-06T03:26:38.306942Z",
     "iopub.status.idle": "2023-04-06T03:26:38.360226Z",
     "shell.execute_reply": "2023-04-06T03:26:38.359140Z",
     "shell.execute_reply.started": "2023-04-06T03:26:38.307963Z"
    },
    "trusted": true
   },
   "outputs": [
    {
     "data": {
      "text/html": [
       "<div>\n",
       "<style scoped>\n",
       "    .dataframe tbody tr th:only-of-type {\n",
       "        vertical-align: middle;\n",
       "    }\n",
       "\n",
       "    .dataframe tbody tr th {\n",
       "        vertical-align: top;\n",
       "    }\n",
       "\n",
       "    .dataframe thead th {\n",
       "        text-align: right;\n",
       "    }\n",
       "</style>\n",
       "<table border=\"1\" class=\"dataframe\">\n",
       "  <thead>\n",
       "    <tr style=\"text-align: right;\">\n",
       "      <th></th>\n",
       "      <th>number</th>\n",
       "      <th>value</th>\n",
       "      <th>datetime_start</th>\n",
       "      <th>datetime_complete</th>\n",
       "      <th>duration</th>\n",
       "      <th>params_attention</th>\n",
       "      <th>params_attention_units</th>\n",
       "      <th>params_batch_size</th>\n",
       "      <th>params_bidirectional</th>\n",
       "      <th>params_dropout</th>\n",
       "      <th>params_dropout_lstm</th>\n",
       "      <th>params_embed_size</th>\n",
       "      <th>params_epochs</th>\n",
       "      <th>params_op_lstm_size</th>\n",
       "      <th>state</th>\n",
       "    </tr>\n",
       "  </thead>\n",
       "  <tbody>\n",
       "    <tr>\n",
       "      <th>0</th>\n",
       "      <td>0</td>\n",
       "      <td>0.843688</td>\n",
       "      <td>2023-04-06 03:00:37.178998</td>\n",
       "      <td>2023-04-06 03:00:59.659520</td>\n",
       "      <td>0 days 00:00:22.480522</td>\n",
       "      <td>0</td>\n",
       "      <td>64</td>\n",
       "      <td>256</td>\n",
       "      <td>1</td>\n",
       "      <td>0.040749</td>\n",
       "      <td>0.218950</td>\n",
       "      <td>128</td>\n",
       "      <td>3</td>\n",
       "      <td>57</td>\n",
       "      <td>COMPLETE</td>\n",
       "    </tr>\n",
       "    <tr>\n",
       "      <th>1</th>\n",
       "      <td>1</td>\n",
       "      <td>0.827392</td>\n",
       "      <td>2023-04-06 03:01:09.005609</td>\n",
       "      <td>2023-04-06 03:01:25.204097</td>\n",
       "      <td>0 days 00:00:16.198488</td>\n",
       "      <td>1</td>\n",
       "      <td>32</td>\n",
       "      <td>256</td>\n",
       "      <td>1</td>\n",
       "      <td>0.376819</td>\n",
       "      <td>0.031645</td>\n",
       "      <td>192</td>\n",
       "      <td>3</td>\n",
       "      <td>52</td>\n",
       "      <td>COMPLETE</td>\n",
       "    </tr>\n",
       "    <tr>\n",
       "      <th>2</th>\n",
       "      <td>2</td>\n",
       "      <td>0.819059</td>\n",
       "      <td>2023-04-06 03:01:25.649485</td>\n",
       "      <td>2023-04-06 03:01:51.637258</td>\n",
       "      <td>0 days 00:00:25.987773</td>\n",
       "      <td>1</td>\n",
       "      <td>64</td>\n",
       "      <td>128</td>\n",
       "      <td>1</td>\n",
       "      <td>0.248587</td>\n",
       "      <td>0.278720</td>\n",
       "      <td>256</td>\n",
       "      <td>4</td>\n",
       "      <td>59</td>\n",
       "      <td>COMPLETE</td>\n",
       "    </tr>\n",
       "    <tr>\n",
       "      <th>3</th>\n",
       "      <td>3</td>\n",
       "      <td>0.849203</td>\n",
       "      <td>2023-04-06 03:01:52.082481</td>\n",
       "      <td>2023-04-06 03:02:02.264562</td>\n",
       "      <td>0 days 00:00:10.182081</td>\n",
       "      <td>0</td>\n",
       "      <td>64</td>\n",
       "      <td>512</td>\n",
       "      <td>1</td>\n",
       "      <td>0.446180</td>\n",
       "      <td>0.446255</td>\n",
       "      <td>256</td>\n",
       "      <td>3</td>\n",
       "      <td>55</td>\n",
       "      <td>COMPLETE</td>\n",
       "    </tr>\n",
       "    <tr>\n",
       "      <th>4</th>\n",
       "      <td>4</td>\n",
       "      <td>0.837839</td>\n",
       "      <td>2023-04-06 03:02:02.704033</td>\n",
       "      <td>2023-04-06 03:02:14.253072</td>\n",
       "      <td>0 days 00:00:11.549039</td>\n",
       "      <td>0</td>\n",
       "      <td>64</td>\n",
       "      <td>1024</td>\n",
       "      <td>1</td>\n",
       "      <td>0.264283</td>\n",
       "      <td>0.383456</td>\n",
       "      <td>192</td>\n",
       "      <td>5</td>\n",
       "      <td>56</td>\n",
       "      <td>COMPLETE</td>\n",
       "    </tr>\n",
       "    <tr>\n",
       "      <th>...</th>\n",
       "      <td>...</td>\n",
       "      <td>...</td>\n",
       "      <td>...</td>\n",
       "      <td>...</td>\n",
       "      <td>...</td>\n",
       "      <td>...</td>\n",
       "      <td>...</td>\n",
       "      <td>...</td>\n",
       "      <td>...</td>\n",
       "      <td>...</td>\n",
       "      <td>...</td>\n",
       "      <td>...</td>\n",
       "      <td>...</td>\n",
       "      <td>...</td>\n",
       "      <td>...</td>\n",
       "    </tr>\n",
       "    <tr>\n",
       "      <th>95</th>\n",
       "      <td>95</td>\n",
       "      <td>0.854628</td>\n",
       "      <td>2023-04-06 03:23:39.388734</td>\n",
       "      <td>2023-04-06 03:23:50.477629</td>\n",
       "      <td>0 days 00:00:11.088895</td>\n",
       "      <td>0</td>\n",
       "      <td>16</td>\n",
       "      <td>256</td>\n",
       "      <td>0</td>\n",
       "      <td>0.116926</td>\n",
       "      <td>0.212260</td>\n",
       "      <td>192</td>\n",
       "      <td>2</td>\n",
       "      <td>51</td>\n",
       "      <td>COMPLETE</td>\n",
       "    </tr>\n",
       "    <tr>\n",
       "      <th>96</th>\n",
       "      <td>96</td>\n",
       "      <td>0.849653</td>\n",
       "      <td>2023-04-06 03:23:51.211795</td>\n",
       "      <td>2023-04-06 03:24:00.077571</td>\n",
       "      <td>0 days 00:00:08.865776</td>\n",
       "      <td>0</td>\n",
       "      <td>16</td>\n",
       "      <td>256</td>\n",
       "      <td>0</td>\n",
       "      <td>0.191950</td>\n",
       "      <td>0.225286</td>\n",
       "      <td>192</td>\n",
       "      <td>2</td>\n",
       "      <td>50</td>\n",
       "      <td>COMPLETE</td>\n",
       "    </tr>\n",
       "    <tr>\n",
       "      <th>97</th>\n",
       "      <td>97</td>\n",
       "      <td>0.832985</td>\n",
       "      <td>2023-04-06 03:24:00.718393</td>\n",
       "      <td>2023-04-06 03:24:14.450813</td>\n",
       "      <td>0 days 00:00:13.732420</td>\n",
       "      <td>0</td>\n",
       "      <td>16</td>\n",
       "      <td>128</td>\n",
       "      <td>0</td>\n",
       "      <td>0.158862</td>\n",
       "      <td>0.193758</td>\n",
       "      <td>192</td>\n",
       "      <td>3</td>\n",
       "      <td>51</td>\n",
       "      <td>COMPLETE</td>\n",
       "    </tr>\n",
       "    <tr>\n",
       "      <th>98</th>\n",
       "      <td>98</td>\n",
       "      <td>0.851550</td>\n",
       "      <td>2023-04-06 03:24:15.088666</td>\n",
       "      <td>2023-04-06 03:24:25.289556</td>\n",
       "      <td>0 days 00:00:10.200890</td>\n",
       "      <td>0</td>\n",
       "      <td>16</td>\n",
       "      <td>256</td>\n",
       "      <td>0</td>\n",
       "      <td>0.102513</td>\n",
       "      <td>0.220414</td>\n",
       "      <td>192</td>\n",
       "      <td>2</td>\n",
       "      <td>50</td>\n",
       "      <td>COMPLETE</td>\n",
       "    </tr>\n",
       "    <tr>\n",
       "      <th>99</th>\n",
       "      <td>99</td>\n",
       "      <td>0.832888</td>\n",
       "      <td>2023-04-06 03:24:25.922436</td>\n",
       "      <td>2023-04-06 03:24:36.666268</td>\n",
       "      <td>0 days 00:00:10.743832</td>\n",
       "      <td>0</td>\n",
       "      <td>16</td>\n",
       "      <td>256</td>\n",
       "      <td>0</td>\n",
       "      <td>0.144387</td>\n",
       "      <td>0.199680</td>\n",
       "      <td>192</td>\n",
       "      <td>2</td>\n",
       "      <td>51</td>\n",
       "      <td>COMPLETE</td>\n",
       "    </tr>\n",
       "  </tbody>\n",
       "</table>\n",
       "<p>100 rows × 15 columns</p>\n",
       "</div>"
      ],
      "text/plain": [
       "    number     value             datetime_start          datetime_complete  \\\n",
       "0        0  0.843688 2023-04-06 03:00:37.178998 2023-04-06 03:00:59.659520   \n",
       "1        1  0.827392 2023-04-06 03:01:09.005609 2023-04-06 03:01:25.204097   \n",
       "2        2  0.819059 2023-04-06 03:01:25.649485 2023-04-06 03:01:51.637258   \n",
       "3        3  0.849203 2023-04-06 03:01:52.082481 2023-04-06 03:02:02.264562   \n",
       "4        4  0.837839 2023-04-06 03:02:02.704033 2023-04-06 03:02:14.253072   \n",
       "..     ...       ...                        ...                        ...   \n",
       "95      95  0.854628 2023-04-06 03:23:39.388734 2023-04-06 03:23:50.477629   \n",
       "96      96  0.849653 2023-04-06 03:23:51.211795 2023-04-06 03:24:00.077571   \n",
       "97      97  0.832985 2023-04-06 03:24:00.718393 2023-04-06 03:24:14.450813   \n",
       "98      98  0.851550 2023-04-06 03:24:15.088666 2023-04-06 03:24:25.289556   \n",
       "99      99  0.832888 2023-04-06 03:24:25.922436 2023-04-06 03:24:36.666268   \n",
       "\n",
       "                 duration  params_attention  params_attention_units  \\\n",
       "0  0 days 00:00:22.480522                 0                      64   \n",
       "1  0 days 00:00:16.198488                 1                      32   \n",
       "2  0 days 00:00:25.987773                 1                      64   \n",
       "3  0 days 00:00:10.182081                 0                      64   \n",
       "4  0 days 00:00:11.549039                 0                      64   \n",
       "..                    ...               ...                     ...   \n",
       "95 0 days 00:00:11.088895                 0                      16   \n",
       "96 0 days 00:00:08.865776                 0                      16   \n",
       "97 0 days 00:00:13.732420                 0                      16   \n",
       "98 0 days 00:00:10.200890                 0                      16   \n",
       "99 0 days 00:00:10.743832                 0                      16   \n",
       "\n",
       "    params_batch_size  params_bidirectional  params_dropout  \\\n",
       "0                 256                     1        0.040749   \n",
       "1                 256                     1        0.376819   \n",
       "2                 128                     1        0.248587   \n",
       "3                 512                     1        0.446180   \n",
       "4                1024                     1        0.264283   \n",
       "..                ...                   ...             ...   \n",
       "95                256                     0        0.116926   \n",
       "96                256                     0        0.191950   \n",
       "97                128                     0        0.158862   \n",
       "98                256                     0        0.102513   \n",
       "99                256                     0        0.144387   \n",
       "\n",
       "    params_dropout_lstm  params_embed_size  params_epochs  \\\n",
       "0              0.218950                128              3   \n",
       "1              0.031645                192              3   \n",
       "2              0.278720                256              4   \n",
       "3              0.446255                256              3   \n",
       "4              0.383456                192              5   \n",
       "..                  ...                ...            ...   \n",
       "95             0.212260                192              2   \n",
       "96             0.225286                192              2   \n",
       "97             0.193758                192              3   \n",
       "98             0.220414                192              2   \n",
       "99             0.199680                192              2   \n",
       "\n",
       "    params_op_lstm_size     state  \n",
       "0                    57  COMPLETE  \n",
       "1                    52  COMPLETE  \n",
       "2                    59  COMPLETE  \n",
       "3                    55  COMPLETE  \n",
       "4                    56  COMPLETE  \n",
       "..                  ...       ...  \n",
       "95                   51  COMPLETE  \n",
       "96                   50  COMPLETE  \n",
       "97                   51  COMPLETE  \n",
       "98                   50  COMPLETE  \n",
       "99                   51  COMPLETE  \n",
       "\n",
       "[100 rows x 15 columns]"
      ]
     },
     "execution_count": 30,
     "metadata": {},
     "output_type": "execute_result"
    }
   ],
   "source": [
    "#study.trials_dataframe().to_csv(\"/kaggle/working/undersampled_data_tuning.csv\")\n",
    "#study.trials_dataframe()"
   ]
  },
  {
   "cell_type": "code",
   "execution_count": 60,
   "metadata": {
    "execution": {
     "iopub.execute_input": "2023-04-06T03:33:06.085105Z",
     "iopub.status.busy": "2023-04-06T03:33:06.084509Z",
     "iopub.status.idle": "2023-04-06T03:33:06.098006Z",
     "shell.execute_reply": "2023-04-06T03:33:06.096995Z",
     "shell.execute_reply.started": "2023-04-06T03:33:06.085069Z"
    },
    "id": "ZyQgaOdnyS6J",
    "trusted": true
   },
   "outputs": [],
   "source": [
    "## Loading Saved Outputs\n",
    "undersampled_res_path = f'{path}undersampled_data_tuning.csv'\n",
    "undersampled_res = pd.read_csv(undersampled_res_path)[['value', 'params_attention', 'params_attention_units', 'params_batch_size', \n",
    "                                               'params_bidirectional', 'params_dropout', 'params_dropout_lstm', 'params_embed_size', \n",
    "                                               'params_epochs', 'params_op_lstm_size']]"
   ]
  },
  {
   "cell_type": "code",
   "execution_count": 61,
   "metadata": {
    "execution": {
     "iopub.execute_input": "2023-04-06T03:33:07.786536Z",
     "iopub.status.busy": "2023-04-06T03:33:07.785209Z",
     "iopub.status.idle": "2023-04-06T03:33:07.795368Z",
     "shell.execute_reply": "2023-04-06T03:33:07.794297Z",
     "shell.execute_reply.started": "2023-04-06T03:33:07.786481Z"
    },
    "trusted": true
   },
   "outputs": [],
   "source": [
    "## Best Parameter for LSTM\n",
    "best_param = undersampled_res[undersampled_res['value'] == np.max(undersampled_res['value'])].reset_index()\n",
    "best_param.columns = ['index', 'value', 'attention', 'attention_units', \n",
    "                      'batch_size', 'bidirectional', 'dropout', 'dropout_lstm', \n",
    "                      'embed_size', 'epochs', 'op_lstm_size']"
   ]
  },
  {
   "cell_type": "markdown",
   "metadata": {},
   "source": [
    "The resulting best parameters for LSTM model trained on undersampled dataset is:\n",
    "* Attention: No Attention\n",
    "* batch_size: 256\n",
    "* bidirectional: No Bidirectional\n",
    "* dropout: 0.058\n",
    "* dropout_lstm: 0.238\n",
    "* embed_size = 192\n",
    "* epochs = 2\n",
    "* op_lstm_size = 50\n",
    "* threshold_value = 0.55\n",
    "\n",
    "The Final Test Score on Test Set is:\n",
    "* Accuracy: 0.91\n",
    "* F1-Macro Score: 0.81"
   ]
  },
  {
   "cell_type": "code",
   "execution_count": 65,
   "metadata": {
    "execution": {
     "iopub.execute_input": "2023-04-06T03:34:15.939887Z",
     "iopub.status.busy": "2023-04-06T03:34:15.939366Z",
     "iopub.status.idle": "2023-04-06T03:34:15.952213Z",
     "shell.execute_reply": "2023-04-06T03:34:15.951169Z",
     "shell.execute_reply.started": "2023-04-06T03:34:15.939842Z"
    },
    "trusted": true
   },
   "outputs": [],
   "source": [
    "## Finding Optimal Threshold\n",
    "#cv = 10\n",
    "#skf = StratifiedKFold(n_splits=cv)\n",
    "#output = []\n",
    "#indices = []\n",
    "#for i, (train_index, test_index) in enumerate(skf.split(X_train_un,y_train_un)):\n",
    "#    indices.append([train_index, test_index])\n",
    "#X_train_idx = []\n",
    "#X_val_idx = []\n",
    "#for i in [0,1,2,3,4,5,6,7,8,9]:\n",
    "#    X_train_idx.append(indices[i][0])\n",
    "#    X_val_idx.append(indices[i][1])\n",
    "#X_train_idx = pd.DataFrame(X_train_idx)\n",
    "#X_val_idx = pd.DataFrame(X_val_idx)\n",
    "#X_train_idx.to_csv(\"/kaggle/working/X_un_train_idx.csv\")\n",
    "#X_val_idx.to_csv(\"/kaggle/working/X_un_val_idx.csv\")"
   ]
  },
  {
   "cell_type": "code",
   "execution_count": 88,
   "metadata": {
    "execution": {
     "iopub.execute_input": "2023-04-06T03:39:04.680181Z",
     "iopub.status.busy": "2023-04-06T03:39:04.679592Z",
     "iopub.status.idle": "2023-04-06T03:39:05.624530Z",
     "shell.execute_reply": "2023-04-06T03:39:05.623473Z",
     "shell.execute_reply.started": "2023-04-06T03:39:04.680139Z"
    },
    "trusted": true
   },
   "outputs": [],
   "source": [
    "train_idx_path = f'{path}X_un_train_idx.csv'\n",
    "val_idx_path = f'{path}X_un_val_idx.csv'\n",
    "X_train_idx = pd.read_csv(train_idx_path)\n",
    "X_val_idx = pd.read_csv(val_idx_path)"
   ]
  },
  {
   "cell_type": "code",
   "execution_count": 76,
   "metadata": {
    "execution": {
     "iopub.execute_input": "2023-04-06T03:37:00.338036Z",
     "iopub.status.busy": "2023-04-06T03:37:00.336929Z",
     "iopub.status.idle": "2023-04-06T03:37:00.343673Z",
     "shell.execute_reply": "2023-04-06T03:37:00.342442Z",
     "shell.execute_reply.started": "2023-04-06T03:37:00.337992Z"
    },
    "trusted": true
   },
   "outputs": [],
   "source": [
    "scores = []"
   ]
  },
  {
   "cell_type": "code",
   "execution_count": 94,
   "metadata": {
    "execution": {
     "iopub.execute_input": "2023-04-06T03:39:55.476827Z",
     "iopub.status.busy": "2023-04-06T03:39:55.475917Z",
     "iopub.status.idle": "2023-04-06T03:40:02.176642Z",
     "shell.execute_reply": "2023-04-06T03:40:02.175591Z",
     "shell.execute_reply.started": "2023-04-06T03:39:55.476787Z"
    },
    "trusted": true
   },
   "outputs": [
    {
     "name": "stdout",
     "output_type": "stream",
     "text": [
      "Epoch 1/2\n",
      "112/112 [==============================] - 4s 17ms/step - loss: 0.5170 - accuracy: 0.7343\n",
      "Epoch 2/2\n",
      "112/112 [==============================] - 2s 16ms/step - loss: 0.3065 - accuracy: 0.8798\n",
      "13/13 [==============================] - 0s 5ms/step\n"
     ]
    }
   ],
   "source": [
    "cv_idx = 9\n",
    "train_index = np.array(X_train_idx[X_train_idx['Unnamed: 0']==cv_idx])[0][1:len(np.array(X_train_idx[X_train_idx['Unnamed: 0']==0])[0])-2].astype('int')\n",
    "test_index = np.array(X_val_idx[X_val_idx['Unnamed: 0']==cv_idx])[0][1:len(np.array(X_val_idx[X_val_idx['Unnamed: 0']==0])[0])-2].astype('int')\n",
    "inp = Input(shape=(maxlen, ))\n",
    "x = Embedding(max_features, 192)(inp)\n",
    "x = LSTM(50, return_sequences=True, dropout=0.237544, recurrent_dropout=0)(x)\n",
    "x = GlobalMaxPool1D()(x)\n",
    "x = Dense(50, activation='relu')(x)\n",
    "x = Dropout(0.057745)(x)\n",
    "x = Dense(1, activation=\"sigmoid\")(x)\n",
    "model = Model(inputs=inp, outputs=x)\n",
    "model.compile(loss='binary_crossentropy', \n",
    "              optimizer=optimizers.Adam(), \n",
    "              metrics=['accuracy'])\n",
    "X_t = X_train_un[train_index]\n",
    "y_t = y_train_un[train_index]\n",
    "X_v = X_train_un[test_index]\n",
    "y_v = y_train_un[test_index]\n",
    "model.fit(X_t, y_t, epochs=2, batch_size=256)\n",
    "y_pred = model.predict([X_v], batch_size=256, verbose=1)\n",
    "score = []\n",
    "for thresh in np.arange(0,1.01,0.05):\n",
    "    y_thresh = (y_pred > thresh).astype(int)\n",
    "    score.append(f1_score(y_v, y_thresh, average = 'macro'))\n",
    "scores.append(score)"
   ]
  },
  {
   "cell_type": "code",
   "execution_count": 95,
   "metadata": {
    "execution": {
     "iopub.execute_input": "2023-04-06T03:40:04.698187Z",
     "iopub.status.busy": "2023-04-06T03:40:04.697121Z",
     "iopub.status.idle": "2023-04-06T03:40:04.707291Z",
     "shell.execute_reply": "2023-04-06T03:40:04.706060Z",
     "shell.execute_reply.started": "2023-04-06T03:40:04.698145Z"
    },
    "trusted": true
   },
   "outputs": [],
   "source": [
    "#pd.DataFrame(scores).to_csv(\"/kaggle/working/threshold_scores_undersampled.csv\")"
   ]
  },
  {
   "cell_type": "code",
   "execution_count": 11,
   "metadata": {
    "execution": {
     "iopub.execute_input": "2023-04-06T04:00:02.336125Z",
     "iopub.status.busy": "2023-04-06T04:00:02.335562Z",
     "iopub.status.idle": "2023-04-06T04:00:02.352603Z",
     "shell.execute_reply": "2023-04-06T04:00:02.351584Z",
     "shell.execute_reply.started": "2023-04-06T04:00:02.336070Z"
    },
    "trusted": true
   },
   "outputs": [],
   "source": [
    "threshold_path = f'{path}threshold_scores_undersampled.csv'\n",
    "threshold_scores = pd.read_csv(threshold_path)"
   ]
  },
  {
   "cell_type": "code",
   "execution_count": 13,
   "metadata": {
    "execution": {
     "iopub.execute_input": "2023-04-06T04:01:50.752257Z",
     "iopub.status.busy": "2023-04-06T04:01:50.751782Z",
     "iopub.status.idle": "2023-04-06T04:01:50.766917Z",
     "shell.execute_reply": "2023-04-06T04:01:50.765414Z",
     "shell.execute_reply.started": "2023-04-06T04:01:50.752214Z"
    },
    "trusted": true
   },
   "outputs": [],
   "source": [
    "scores = []\n",
    "for i in [0,1,2,3,4,5,6,7,8,9]:\n",
    "    score = np.array((threshold_scores[threshold_scores['Unnamed: 0']==i]))[0][1:22]\n",
    "    scores.append(score)"
   ]
  },
  {
   "cell_type": "code",
   "execution_count": 14,
   "metadata": {
    "execution": {
     "iopub.execute_input": "2023-04-06T04:01:55.106123Z",
     "iopub.status.busy": "2023-04-06T04:01:55.104760Z",
     "iopub.status.idle": "2023-04-06T04:01:55.113804Z",
     "shell.execute_reply": "2023-04-06T04:01:55.112322Z",
     "shell.execute_reply.started": "2023-04-06T04:01:55.106061Z"
    },
    "trusted": true
   },
   "outputs": [],
   "source": [
    "avg_score = (np.array(scores[0]) + np.array(scores[1]) + np.array(scores[2]) + np.array(scores[3]) + np.array(scores[4]) + np.array(scores[5]) + np.array(scores[6]) + np.array(scores[7]) + np.array(scores[8]) + np.array(scores[9]))/10\n",
    "best_threshold = np.arange(0,1.01,0.05)[avg_score == np.max(avg_score)][0]"
   ]
  },
  {
   "cell_type": "code",
   "execution_count": 28,
   "metadata": {
    "execution": {
     "iopub.execute_input": "2023-04-06T04:09:11.978966Z",
     "iopub.status.busy": "2023-04-06T04:09:11.978521Z",
     "iopub.status.idle": "2023-04-06T04:09:12.286266Z",
     "shell.execute_reply": "2023-04-06T04:09:12.284620Z",
     "shell.execute_reply.started": "2023-04-06T04:09:11.978928Z"
    },
    "trusted": true
   },
   "outputs": [
    {
     "data": {
      "image/png": "[encoded data removed]",
      "text/plain": [
       "<Figure size 640x480 with 1 Axes>"
      ]
     },
     "metadata": {},
     "output_type": "display_data"
    }
   ],
   "source": [
    "## F1 Macro Scores by Threshold\n",
    "thresholds = np.arange(0,1.01,0.05)\n",
    "plt.plot(thresholds,scores[0], alpha=0.1)\n",
    "plt.plot(thresholds,scores[1], alpha=0.1)\n",
    "plt.plot(thresholds,scores[2], alpha=0.1)\n",
    "plt.plot(thresholds,scores[3], alpha=0.1)\n",
    "plt.plot(thresholds,scores[4], alpha=0.1)\n",
    "plt.plot(thresholds,scores[5], alpha=0.1)\n",
    "plt.plot(thresholds,scores[6], alpha=0.1)\n",
    "plt.plot(thresholds,scores[7], alpha=0.1)\n",
    "plt.plot(thresholds,scores[8], alpha=0.1)\n",
    "plt.plot(thresholds,scores[9], alpha=0.1)\n",
    "plt.plot(thresholds,avg_score)\n",
    "plt.title('F1 Score by Threshold Value by CV - Undersampled')\n",
    "plt.ylabel('F1 Score')\n",
    "plt.xlabel('Threshold Values')\n",
    "plt.legend(['CV 1', 'CV 2','CV 3','CV 4', 'CV 5', 'CV 6', 'CV 7', 'CV 8', 'CV 9', 'CV 10', 'CV Avg'], loc='lower right')\n",
    "plt.show()"
   ]
  },
  {
   "cell_type": "code",
   "execution_count": 24,
   "metadata": {
    "execution": {
     "iopub.execute_input": "2023-04-06T04:03:05.346876Z",
     "iopub.status.busy": "2023-04-06T04:03:05.345646Z",
     "iopub.status.idle": "2023-04-06T04:03:05.363952Z",
     "shell.execute_reply": "2023-04-06T04:03:05.355337Z",
     "shell.execute_reply.started": "2023-04-06T04:03:05.346812Z"
    },
    "trusted": true
   },
   "outputs": [],
   "source": [
    "## LSTM CI from CV Results\n",
    "cv_f1_score_lstm_un = []\n",
    "for i in [0,1,2,3,4,5,6,7,8,9]:\n",
    "    f1_cv = scores[i][np.arange(0,1.01,0.05)==best_threshold]\n",
    "    cv_f1_score_lstm_un.append(f1_cv[0])\n",
    "lstm_un_mean = np.mean(cv_f1_score_lstm_un)\n",
    "lstm_un_std = np.std(cv_f1_score_lstm_un)\n",
    "lstm_un_ci = [lstm_un_mean - 3*lstm_un_std, lstm_un_mean + 3*lstm_un_std] ## Includes 99.7% numbers around est. mean."
   ]
  },
  {
   "cell_type": "code",
   "execution_count": 26,
   "metadata": {
    "execution": {
     "iopub.execute_input": "2023-04-06T04:04:00.297934Z",
     "iopub.status.busy": "2023-04-06T04:04:00.296723Z",
     "iopub.status.idle": "2023-04-06T04:04:00.305088Z",
     "shell.execute_reply": "2023-04-06T04:04:00.303452Z",
     "shell.execute_reply.started": "2023-04-06T04:04:00.297871Z"
    },
    "trusted": true
   },
   "outputs": [
    {
     "name": "stdout",
     "output_type": "stream",
     "text": [
      "Mean CV Score: 0.8624867170303577\n",
      "Standard Deviation CV Score: 0.006310425723133333\n"
     ]
    }
   ],
   "source": [
    "print(\"Mean CV Score: {}\".format(lstm_un_mean))\n",
    "print(\"Standard Deviation CV Score: {}\".format(lstm_un_std))"
   ]
  },
  {
   "cell_type": "code",
   "execution_count": 27,
   "metadata": {
    "execution": {
     "iopub.execute_input": "2023-04-06T04:04:07.579410Z",
     "iopub.status.busy": "2023-04-06T04:04:07.578946Z",
     "iopub.status.idle": "2023-04-06T04:04:07.587228Z",
     "shell.execute_reply": "2023-04-06T04:04:07.585831Z",
     "shell.execute_reply.started": "2023-04-06T04:04:07.579368Z"
    },
    "trusted": true
   },
   "outputs": [
    {
     "data": {
      "text/plain": [
       "[0.8435554398609577, 0.8814179941997577]"
      ]
     },
     "execution_count": 27,
     "metadata": {},
     "output_type": "execute_result"
    }
   ],
   "source": [
    "lstm_un_ci"
   ]
  },
  {
   "cell_type": "code",
   "execution_count": 98,
   "metadata": {
    "execution": {
     "iopub.execute_input": "2023-04-06T03:42:34.597490Z",
     "iopub.status.busy": "2023-04-06T03:42:34.596579Z",
     "iopub.status.idle": "2023-04-06T03:42:44.783871Z",
     "shell.execute_reply": "2023-04-06T03:42:44.782628Z",
     "shell.execute_reply.started": "2023-04-06T03:42:34.597451Z"
    },
    "trusted": true
   },
   "outputs": [
    {
     "name": "stdout",
     "output_type": "stream",
     "text": [
      "Epoch 1/2\n",
      "124/124 [==============================] - 4s 17ms/step - loss: 0.4824 - accuracy: 0.7571\n",
      "Epoch 2/2\n",
      "124/124 [==============================] - 2s 16ms/step - loss: 0.2975 - accuracy: 0.8839\n",
      "262/262 [==============================] - 2s 5ms/step\n",
      "[LSTM] F1 Macro score is 0.8056113439484657\n",
      "[[55130  5299]\n",
      " [  718  5918]]\n",
      "              precision    recall  f1-score   support\n",
      "\n",
      "           0       0.99      0.91      0.95     60429\n",
      "           1       0.53      0.89      0.66      6636\n",
      "\n",
      "    accuracy                           0.91     67065\n",
      "   macro avg       0.76      0.90      0.81     67065\n",
      "weighted avg       0.94      0.91      0.92     67065\n",
      "\n"
     ]
    }
   ],
   "source": [
    "## Final Test on Test Data\n",
    "inp = Input(shape=(maxlen, ))\n",
    "x = Embedding(max_features, 192)(inp)\n",
    "x = LSTM(50, return_sequences=True, dropout=0.237544, recurrent_dropout=0)(x)\n",
    "x = GlobalMaxPool1D()(x)\n",
    "x = Dense(50, activation='relu')(x)\n",
    "x = Dropout(0.057745)(x)\n",
    "x = Dense(1, activation=\"sigmoid\")(x)\n",
    "model = Model(inputs=inp, outputs=x)\n",
    "model.compile(loss='binary_crossentropy', \n",
    "              optimizer=optimizers.Adam(), \n",
    "              metrics=['accuracy'])\n",
    "model.fit(X_train_un, y_train_un, epochs=2, batch_size=256)\n",
    "y_pred = model.predict([X_test], batch_size=256, verbose=1)\n",
    "y_pred = (y_pred > best_threshold).astype(int)\n",
    "print('[LSTM] F1 Macro score is {}'.format(f1_score(y_test, y_pred, average = 'macro')))\n",
    "print(confusion_matrix(y_test,y_pred))\n",
    "print(classification_report(y_test,y_pred))"
   ]
  }
 ],
 "metadata": {
  "kernelspec": {
   "display_name": "Python 3",
   "language": "python",
   "name": "python3"
  },
  "language_info": {
   "codemirror_mode": {
    "name": "ipython",
    "version": 3
   },
   "file_extension": ".py",
   "mimetype": "text/x-python",
   "name": "python",
   "nbconvert_exporter": "python",
   "pygments_lexer": "ipython3",
   "version": "3.7.12"
  }
 },
 "nbformat": 4,
 "nbformat_minor": 4
}
